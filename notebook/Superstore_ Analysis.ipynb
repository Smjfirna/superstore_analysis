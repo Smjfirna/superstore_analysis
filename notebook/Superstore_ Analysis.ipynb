{
  "nbformat": 4,
  "nbformat_minor": 0,
  "metadata": {
    "colab": {
      "provenance": [],
      "authorship_tag": "ABX9TyPlqas+ZfDumiZbjCfI9/9s",
      "include_colab_link": true
    },
    "kernelspec": {
      "name": "python3",
      "display_name": "Python 3"
    },
    "language_info": {
      "name": "python"
    }
  },
  "cells": [
    {
      "cell_type": "markdown",
      "metadata": {
        "id": "view-in-github",
        "colab_type": "text"
      },
      "source": [
        "<a href=\"https://colab.research.google.com/github/Smjfirna/superstore_analysis/blob/main/notebook/Superstore_%20Analysis.ipynb\" target=\"_parent\"><img src=\"https://colab.research.google.com/assets/colab-badge.svg\" alt=\"Open In Colab\"/></a>"
      ]
    },
    {
      "cell_type": "markdown",
      "source": [
        "#Super Store Sales Analysist\n",
        "\n",
        "**Description**: This project aims to analyze sales data at retail stores (Super Store) to identify sales patterns, areas of loss, and opportunities for profit improvement.\n",
        "\n",
        "**Dataset**: Taken from [Kaggle Dataset](https://www.kaggle.com/datasets/vivek468/superstore-dataset-final), which contains 9,994 rows of data containing information on product transactions, customer data, discounts, profits, and shipping.\n"
      ],
      "metadata": {
        "id": "xQlEdjHe8aZU"
      }
    },
    {
      "cell_type": "markdown",
      "source": [
        "## Import Library"
      ],
      "metadata": {
        "id": "9APXW7ZmL4FC"
      }
    },
    {
      "cell_type": "code",
      "source": [
        "import pandas as pd\n",
        "from google.colab import files\n",
        "import matplotlib.pyplot as plt\n",
        "import calendar\n",
        "import seaborn as sns\n",
        "import numpy as np"
      ],
      "metadata": {
        "id": "J29xJPlALVpt"
      },
      "execution_count": null,
      "outputs": []
    },
    {
      "cell_type": "code",
      "execution_count": null,
      "metadata": {
        "id": "xX0MRpIF8O9e",
        "colab": {
          "base_uri": "https://localhost:8080/",
          "height": 56
        },
        "outputId": "6e02c2dd-23ba-4641-c8ae-c488d64bad37"
      },
      "outputs": [
        {
          "output_type": "display_data",
          "data": {
            "text/plain": [
              "<IPython.core.display.HTML object>"
            ],
            "text/html": [
              "\n",
              "     <input type=\"file\" id=\"files-b0015149-583c-4aae-81f5-1b32dbc5981a\" name=\"files[]\" multiple disabled\n",
              "        style=\"border:none\" />\n",
              "     <output id=\"result-b0015149-583c-4aae-81f5-1b32dbc5981a\">\n",
              "      Upload widget is only available when the cell has been executed in the\n",
              "      current browser session. Please rerun this cell to enable.\n",
              "      </output>\n",
              "      <script>// Copyright 2017 Google LLC\n",
              "//\n",
              "// Licensed under the Apache License, Version 2.0 (the \"License\");\n",
              "// you may not use this file except in compliance with the License.\n",
              "// You may obtain a copy of the License at\n",
              "//\n",
              "//      http://www.apache.org/licenses/LICENSE-2.0\n",
              "//\n",
              "// Unless required by applicable law or agreed to in writing, software\n",
              "// distributed under the License is distributed on an \"AS IS\" BASIS,\n",
              "// WITHOUT WARRANTIES OR CONDITIONS OF ANY KIND, either express or implied.\n",
              "// See the License for the specific language governing permissions and\n",
              "// limitations under the License.\n",
              "\n",
              "/**\n",
              " * @fileoverview Helpers for google.colab Python module.\n",
              " */\n",
              "(function(scope) {\n",
              "function span(text, styleAttributes = {}) {\n",
              "  const element = document.createElement('span');\n",
              "  element.textContent = text;\n",
              "  for (const key of Object.keys(styleAttributes)) {\n",
              "    element.style[key] = styleAttributes[key];\n",
              "  }\n",
              "  return element;\n",
              "}\n",
              "\n",
              "// Max number of bytes which will be uploaded at a time.\n",
              "const MAX_PAYLOAD_SIZE = 100 * 1024;\n",
              "\n",
              "function _uploadFiles(inputId, outputId) {\n",
              "  const steps = uploadFilesStep(inputId, outputId);\n",
              "  const outputElement = document.getElementById(outputId);\n",
              "  // Cache steps on the outputElement to make it available for the next call\n",
              "  // to uploadFilesContinue from Python.\n",
              "  outputElement.steps = steps;\n",
              "\n",
              "  return _uploadFilesContinue(outputId);\n",
              "}\n",
              "\n",
              "// This is roughly an async generator (not supported in the browser yet),\n",
              "// where there are multiple asynchronous steps and the Python side is going\n",
              "// to poll for completion of each step.\n",
              "// This uses a Promise to block the python side on completion of each step,\n",
              "// then passes the result of the previous step as the input to the next step.\n",
              "function _uploadFilesContinue(outputId) {\n",
              "  const outputElement = document.getElementById(outputId);\n",
              "  const steps = outputElement.steps;\n",
              "\n",
              "  const next = steps.next(outputElement.lastPromiseValue);\n",
              "  return Promise.resolve(next.value.promise).then((value) => {\n",
              "    // Cache the last promise value to make it available to the next\n",
              "    // step of the generator.\n",
              "    outputElement.lastPromiseValue = value;\n",
              "    return next.value.response;\n",
              "  });\n",
              "}\n",
              "\n",
              "/**\n",
              " * Generator function which is called between each async step of the upload\n",
              " * process.\n",
              " * @param {string} inputId Element ID of the input file picker element.\n",
              " * @param {string} outputId Element ID of the output display.\n",
              " * @return {!Iterable<!Object>} Iterable of next steps.\n",
              " */\n",
              "function* uploadFilesStep(inputId, outputId) {\n",
              "  const inputElement = document.getElementById(inputId);\n",
              "  inputElement.disabled = false;\n",
              "\n",
              "  const outputElement = document.getElementById(outputId);\n",
              "  outputElement.innerHTML = '';\n",
              "\n",
              "  const pickedPromise = new Promise((resolve) => {\n",
              "    inputElement.addEventListener('change', (e) => {\n",
              "      resolve(e.target.files);\n",
              "    });\n",
              "  });\n",
              "\n",
              "  const cancel = document.createElement('button');\n",
              "  inputElement.parentElement.appendChild(cancel);\n",
              "  cancel.textContent = 'Cancel upload';\n",
              "  const cancelPromise = new Promise((resolve) => {\n",
              "    cancel.onclick = () => {\n",
              "      resolve(null);\n",
              "    };\n",
              "  });\n",
              "\n",
              "  // Wait for the user to pick the files.\n",
              "  const files = yield {\n",
              "    promise: Promise.race([pickedPromise, cancelPromise]),\n",
              "    response: {\n",
              "      action: 'starting',\n",
              "    }\n",
              "  };\n",
              "\n",
              "  cancel.remove();\n",
              "\n",
              "  // Disable the input element since further picks are not allowed.\n",
              "  inputElement.disabled = true;\n",
              "\n",
              "  if (!files) {\n",
              "    return {\n",
              "      response: {\n",
              "        action: 'complete',\n",
              "      }\n",
              "    };\n",
              "  }\n",
              "\n",
              "  for (const file of files) {\n",
              "    const li = document.createElement('li');\n",
              "    li.append(span(file.name, {fontWeight: 'bold'}));\n",
              "    li.append(span(\n",
              "        `(${file.type || 'n/a'}) - ${file.size} bytes, ` +\n",
              "        `last modified: ${\n",
              "            file.lastModifiedDate ? file.lastModifiedDate.toLocaleDateString() :\n",
              "                                    'n/a'} - `));\n",
              "    const percent = span('0% done');\n",
              "    li.appendChild(percent);\n",
              "\n",
              "    outputElement.appendChild(li);\n",
              "\n",
              "    const fileDataPromise = new Promise((resolve) => {\n",
              "      const reader = new FileReader();\n",
              "      reader.onload = (e) => {\n",
              "        resolve(e.target.result);\n",
              "      };\n",
              "      reader.readAsArrayBuffer(file);\n",
              "    });\n",
              "    // Wait for the data to be ready.\n",
              "    let fileData = yield {\n",
              "      promise: fileDataPromise,\n",
              "      response: {\n",
              "        action: 'continue',\n",
              "      }\n",
              "    };\n",
              "\n",
              "    // Use a chunked sending to avoid message size limits. See b/62115660.\n",
              "    let position = 0;\n",
              "    do {\n",
              "      const length = Math.min(fileData.byteLength - position, MAX_PAYLOAD_SIZE);\n",
              "      const chunk = new Uint8Array(fileData, position, length);\n",
              "      position += length;\n",
              "\n",
              "      const base64 = btoa(String.fromCharCode.apply(null, chunk));\n",
              "      yield {\n",
              "        response: {\n",
              "          action: 'append',\n",
              "          file: file.name,\n",
              "          data: base64,\n",
              "        },\n",
              "      };\n",
              "\n",
              "      let percentDone = fileData.byteLength === 0 ?\n",
              "          100 :\n",
              "          Math.round((position / fileData.byteLength) * 100);\n",
              "      percent.textContent = `${percentDone}% done`;\n",
              "\n",
              "    } while (position < fileData.byteLength);\n",
              "  }\n",
              "\n",
              "  // All done.\n",
              "  yield {\n",
              "    response: {\n",
              "      action: 'complete',\n",
              "    }\n",
              "  };\n",
              "}\n",
              "\n",
              "scope.google = scope.google || {};\n",
              "scope.google.colab = scope.google.colab || {};\n",
              "scope.google.colab._files = {\n",
              "  _uploadFiles,\n",
              "  _uploadFilesContinue,\n",
              "};\n",
              "})(self);\n",
              "</script> "
            ]
          },
          "metadata": {}
        },
        {
          "output_type": "execute_result",
          "data": {
            "text/plain": [
              "{}"
            ]
          },
          "metadata": {},
          "execution_count": 2
        }
      ],
      "source": [
        "#data retrieved using the Kaggle API\n",
        "files.upload()"
      ]
    },
    {
      "cell_type": "code",
      "source": [
        "# Create a .kaggle folder and copy kaggle.json into the folder\n",
        "!mkdir -p ~/.kaggle\n",
        "!cp kaggle.json ~/.kaggle/\n",
        "\n",
        "# Set permissions so that files cannot be read by the public\n",
        "!chmod 600 ~/.kaggle/kaggle.json"
      ],
      "metadata": {
        "id": "INr8ms9FFlen",
        "colab": {
          "base_uri": "https://localhost:8080/"
        },
        "outputId": "73751130-2ddf-40d0-c780-e94779b7c105"
      },
      "execution_count": null,
      "outputs": [
        {
          "output_type": "stream",
          "name": "stdout",
          "text": [
            "cp: cannot stat 'kaggle.json': No such file or directory\n",
            "chmod: cannot access '/root/.kaggle/kaggle.json': No such file or directory\n"
          ]
        }
      ]
    },
    {
      "cell_type": "code",
      "source": [
        "#Download dataset\n",
        "!kaggle datasets download -d vivek468/superstore-dataset-final"
      ],
      "metadata": {
        "colab": {
          "base_uri": "https://localhost:8080/"
        },
        "id": "3b4sdyNJGJOM",
        "outputId": "aab92dfd-554f-4158-820d-73072a9985db"
      },
      "execution_count": null,
      "outputs": [
        {
          "output_type": "stream",
          "name": "stdout",
          "text": [
            "Traceback (most recent call last):\n",
            "  File \"/usr/local/bin/kaggle\", line 10, in <module>\n",
            "    sys.exit(main())\n",
            "             ^^^^^^\n",
            "  File \"/usr/local/lib/python3.12/dist-packages/kaggle/cli.py\", line 68, in main\n",
            "    out = args.func(**command_args)\n",
            "          ^^^^^^^^^^^^^^^^^^^^^^^^^\n",
            "  File \"/usr/local/lib/python3.12/dist-packages/kaggle/api/kaggle_api_extended.py\", line 1741, in dataset_download_cli\n",
            "    with self.build_kaggle_client() as kaggle:\n",
            "         ^^^^^^^^^^^^^^^^^^^^^^^^^^\n",
            "  File \"/usr/local/lib/python3.12/dist-packages/kaggle/api/kaggle_api_extended.py\", line 688, in build_kaggle_client\n",
            "    username=self.config_values['username'],\n",
            "             ~~~~~~~~~~~~~~~~~~^^^^^^^^^^^^\n",
            "KeyError: 'username'\n"
          ]
        }
      ]
    },
    {
      "cell_type": "code",
      "source": [
        "#Unzip file format\n",
        "!unzip superstore-dataset-final.zip"
      ],
      "metadata": {
        "colab": {
          "base_uri": "https://localhost:8080/"
        },
        "id": "WamfYyX3KjBM",
        "outputId": "80848d98-9d01-4a82-e655-7b8b116514d4"
      },
      "execution_count": null,
      "outputs": [
        {
          "output_type": "stream",
          "name": "stdout",
          "text": [
            "unzip:  cannot find or open superstore-dataset-final.zip, superstore-dataset-final.zip.zip or superstore-dataset-final.zip.ZIP.\n"
          ]
        }
      ]
    },
    {
      "cell_type": "code",
      "source": [
        "import pandas as pd\n",
        "from google.colab import files\n",
        "\n",
        "uploaded = files.upload()\n",
        "\n",
        "# Ambil nama file pertama\n",
        "filename = list(uploaded.keys())[0]"
      ],
      "metadata": {
        "colab": {
          "base_uri": "https://localhost:8080/",
          "height": 73
        },
        "id": "Z5TnNL2pDXkA",
        "outputId": "8339ee22-6dd4-49b5-9714-f2dfee029a8f"
      },
      "execution_count": null,
      "outputs": [
        {
          "output_type": "display_data",
          "data": {
            "text/plain": [
              "<IPython.core.display.HTML object>"
            ],
            "text/html": [
              "\n",
              "     <input type=\"file\" id=\"files-3f7f9515-685c-4887-afcc-794626ff4b2c\" name=\"files[]\" multiple disabled\n",
              "        style=\"border:none\" />\n",
              "     <output id=\"result-3f7f9515-685c-4887-afcc-794626ff4b2c\">\n",
              "      Upload widget is only available when the cell has been executed in the\n",
              "      current browser session. Please rerun this cell to enable.\n",
              "      </output>\n",
              "      <script>// Copyright 2017 Google LLC\n",
              "//\n",
              "// Licensed under the Apache License, Version 2.0 (the \"License\");\n",
              "// you may not use this file except in compliance with the License.\n",
              "// You may obtain a copy of the License at\n",
              "//\n",
              "//      http://www.apache.org/licenses/LICENSE-2.0\n",
              "//\n",
              "// Unless required by applicable law or agreed to in writing, software\n",
              "// distributed under the License is distributed on an \"AS IS\" BASIS,\n",
              "// WITHOUT WARRANTIES OR CONDITIONS OF ANY KIND, either express or implied.\n",
              "// See the License for the specific language governing permissions and\n",
              "// limitations under the License.\n",
              "\n",
              "/**\n",
              " * @fileoverview Helpers for google.colab Python module.\n",
              " */\n",
              "(function(scope) {\n",
              "function span(text, styleAttributes = {}) {\n",
              "  const element = document.createElement('span');\n",
              "  element.textContent = text;\n",
              "  for (const key of Object.keys(styleAttributes)) {\n",
              "    element.style[key] = styleAttributes[key];\n",
              "  }\n",
              "  return element;\n",
              "}\n",
              "\n",
              "// Max number of bytes which will be uploaded at a time.\n",
              "const MAX_PAYLOAD_SIZE = 100 * 1024;\n",
              "\n",
              "function _uploadFiles(inputId, outputId) {\n",
              "  const steps = uploadFilesStep(inputId, outputId);\n",
              "  const outputElement = document.getElementById(outputId);\n",
              "  // Cache steps on the outputElement to make it available for the next call\n",
              "  // to uploadFilesContinue from Python.\n",
              "  outputElement.steps = steps;\n",
              "\n",
              "  return _uploadFilesContinue(outputId);\n",
              "}\n",
              "\n",
              "// This is roughly an async generator (not supported in the browser yet),\n",
              "// where there are multiple asynchronous steps and the Python side is going\n",
              "// to poll for completion of each step.\n",
              "// This uses a Promise to block the python side on completion of each step,\n",
              "// then passes the result of the previous step as the input to the next step.\n",
              "function _uploadFilesContinue(outputId) {\n",
              "  const outputElement = document.getElementById(outputId);\n",
              "  const steps = outputElement.steps;\n",
              "\n",
              "  const next = steps.next(outputElement.lastPromiseValue);\n",
              "  return Promise.resolve(next.value.promise).then((value) => {\n",
              "    // Cache the last promise value to make it available to the next\n",
              "    // step of the generator.\n",
              "    outputElement.lastPromiseValue = value;\n",
              "    return next.value.response;\n",
              "  });\n",
              "}\n",
              "\n",
              "/**\n",
              " * Generator function which is called between each async step of the upload\n",
              " * process.\n",
              " * @param {string} inputId Element ID of the input file picker element.\n",
              " * @param {string} outputId Element ID of the output display.\n",
              " * @return {!Iterable<!Object>} Iterable of next steps.\n",
              " */\n",
              "function* uploadFilesStep(inputId, outputId) {\n",
              "  const inputElement = document.getElementById(inputId);\n",
              "  inputElement.disabled = false;\n",
              "\n",
              "  const outputElement = document.getElementById(outputId);\n",
              "  outputElement.innerHTML = '';\n",
              "\n",
              "  const pickedPromise = new Promise((resolve) => {\n",
              "    inputElement.addEventListener('change', (e) => {\n",
              "      resolve(e.target.files);\n",
              "    });\n",
              "  });\n",
              "\n",
              "  const cancel = document.createElement('button');\n",
              "  inputElement.parentElement.appendChild(cancel);\n",
              "  cancel.textContent = 'Cancel upload';\n",
              "  const cancelPromise = new Promise((resolve) => {\n",
              "    cancel.onclick = () => {\n",
              "      resolve(null);\n",
              "    };\n",
              "  });\n",
              "\n",
              "  // Wait for the user to pick the files.\n",
              "  const files = yield {\n",
              "    promise: Promise.race([pickedPromise, cancelPromise]),\n",
              "    response: {\n",
              "      action: 'starting',\n",
              "    }\n",
              "  };\n",
              "\n",
              "  cancel.remove();\n",
              "\n",
              "  // Disable the input element since further picks are not allowed.\n",
              "  inputElement.disabled = true;\n",
              "\n",
              "  if (!files) {\n",
              "    return {\n",
              "      response: {\n",
              "        action: 'complete',\n",
              "      }\n",
              "    };\n",
              "  }\n",
              "\n",
              "  for (const file of files) {\n",
              "    const li = document.createElement('li');\n",
              "    li.append(span(file.name, {fontWeight: 'bold'}));\n",
              "    li.append(span(\n",
              "        `(${file.type || 'n/a'}) - ${file.size} bytes, ` +\n",
              "        `last modified: ${\n",
              "            file.lastModifiedDate ? file.lastModifiedDate.toLocaleDateString() :\n",
              "                                    'n/a'} - `));\n",
              "    const percent = span('0% done');\n",
              "    li.appendChild(percent);\n",
              "\n",
              "    outputElement.appendChild(li);\n",
              "\n",
              "    const fileDataPromise = new Promise((resolve) => {\n",
              "      const reader = new FileReader();\n",
              "      reader.onload = (e) => {\n",
              "        resolve(e.target.result);\n",
              "      };\n",
              "      reader.readAsArrayBuffer(file);\n",
              "    });\n",
              "    // Wait for the data to be ready.\n",
              "    let fileData = yield {\n",
              "      promise: fileDataPromise,\n",
              "      response: {\n",
              "        action: 'continue',\n",
              "      }\n",
              "    };\n",
              "\n",
              "    // Use a chunked sending to avoid message size limits. See b/62115660.\n",
              "    let position = 0;\n",
              "    do {\n",
              "      const length = Math.min(fileData.byteLength - position, MAX_PAYLOAD_SIZE);\n",
              "      const chunk = new Uint8Array(fileData, position, length);\n",
              "      position += length;\n",
              "\n",
              "      const base64 = btoa(String.fromCharCode.apply(null, chunk));\n",
              "      yield {\n",
              "        response: {\n",
              "          action: 'append',\n",
              "          file: file.name,\n",
              "          data: base64,\n",
              "        },\n",
              "      };\n",
              "\n",
              "      let percentDone = fileData.byteLength === 0 ?\n",
              "          100 :\n",
              "          Math.round((position / fileData.byteLength) * 100);\n",
              "      percent.textContent = `${percentDone}% done`;\n",
              "\n",
              "    } while (position < fileData.byteLength);\n",
              "  }\n",
              "\n",
              "  // All done.\n",
              "  yield {\n",
              "    response: {\n",
              "      action: 'complete',\n",
              "    }\n",
              "  };\n",
              "}\n",
              "\n",
              "scope.google = scope.google || {};\n",
              "scope.google.colab = scope.google.colab || {};\n",
              "scope.google.colab._files = {\n",
              "  _uploadFiles,\n",
              "  _uploadFilesContinue,\n",
              "};\n",
              "})(self);\n",
              "</script> "
            ]
          },
          "metadata": {}
        },
        {
          "output_type": "stream",
          "name": "stdout",
          "text": [
            "Saving Sample - Superstore.csv to Sample - Superstore.csv\n"
          ]
        }
      ]
    },
    {
      "cell_type": "code",
      "source": [
        "# Read the ‘Sample - Superstore.csv’ dataset and save it to the DataFrame df\n",
        "# The parameter encoding=‘ISO-8859-1’ is used to avoid errors when reading special characters\n",
        "# that often appear in CSV files with non-UTF-8 formats (e.g., accented characters or certain symbols)\n",
        "df = pd.read_csv('Sample - Superstore.csv', encoding='ISO-8859-1')"
      ],
      "metadata": {
        "id": "rhZ1s4PIKDSj"
      },
      "execution_count": null,
      "outputs": []
    },
    {
      "cell_type": "code",
      "source": [
        "df.head()"
      ],
      "metadata": {
        "colab": {
          "base_uri": "https://localhost:8080/",
          "height": 585
        },
        "id": "r76ewpNUKsM7",
        "outputId": "a07e8056-1b41-4499-cc1e-0078f9f0d501"
      },
      "execution_count": null,
      "outputs": [
        {
          "output_type": "execute_result",
          "data": {
            "text/plain": [
              "   Row ID        Order ID  Order Date   Ship Date       Ship Mode Customer ID  \\\n",
              "0       1  CA-2016-152156   11/8/2016  11/11/2016    Second Class    CG-12520   \n",
              "1       2  CA-2016-152156   11/8/2016  11/11/2016    Second Class    CG-12520   \n",
              "2       3  CA-2016-138688   6/12/2016   6/16/2016    Second Class    DV-13045   \n",
              "3       4  US-2015-108966  10/11/2015  10/18/2015  Standard Class    SO-20335   \n",
              "4       5  US-2015-108966  10/11/2015  10/18/2015  Standard Class    SO-20335   \n",
              "\n",
              "     Customer Name    Segment        Country             City  ...  \\\n",
              "0      Claire Gute   Consumer  United States        Henderson  ...   \n",
              "1      Claire Gute   Consumer  United States        Henderson  ...   \n",
              "2  Darrin Van Huff  Corporate  United States      Los Angeles  ...   \n",
              "3   Sean O'Donnell   Consumer  United States  Fort Lauderdale  ...   \n",
              "4   Sean O'Donnell   Consumer  United States  Fort Lauderdale  ...   \n",
              "\n",
              "  Postal Code  Region       Product ID         Category Sub-Category  \\\n",
              "0       42420   South  FUR-BO-10001798        Furniture    Bookcases   \n",
              "1       42420   South  FUR-CH-10000454        Furniture       Chairs   \n",
              "2       90036    West  OFF-LA-10000240  Office Supplies       Labels   \n",
              "3       33311   South  FUR-TA-10000577        Furniture       Tables   \n",
              "4       33311   South  OFF-ST-10000760  Office Supplies      Storage   \n",
              "\n",
              "                                        Product Name     Sales  Quantity  \\\n",
              "0                  Bush Somerset Collection Bookcase  261.9600         2   \n",
              "1  Hon Deluxe Fabric Upholstered Stacking Chairs,...  731.9400         3   \n",
              "2  Self-Adhesive Address Labels for Typewriters b...   14.6200         2   \n",
              "3      Bretford CR4500 Series Slim Rectangular Table  957.5775         5   \n",
              "4                     Eldon Fold 'N Roll Cart System   22.3680         2   \n",
              "\n",
              "   Discount    Profit  \n",
              "0      0.00   41.9136  \n",
              "1      0.00  219.5820  \n",
              "2      0.00    6.8714  \n",
              "3      0.45 -383.0310  \n",
              "4      0.20    2.5164  \n",
              "\n",
              "[5 rows x 21 columns]"
            ],
            "text/html": [
              "\n",
              "  <div id=\"df-057db57e-1cba-4983-92dc-33e0ad144d66\" class=\"colab-df-container\">\n",
              "    <div>\n",
              "<style scoped>\n",
              "    .dataframe tbody tr th:only-of-type {\n",
              "        vertical-align: middle;\n",
              "    }\n",
              "\n",
              "    .dataframe tbody tr th {\n",
              "        vertical-align: top;\n",
              "    }\n",
              "\n",
              "    .dataframe thead th {\n",
              "        text-align: right;\n",
              "    }\n",
              "</style>\n",
              "<table border=\"1\" class=\"dataframe\">\n",
              "  <thead>\n",
              "    <tr style=\"text-align: right;\">\n",
              "      <th></th>\n",
              "      <th>Row ID</th>\n",
              "      <th>Order ID</th>\n",
              "      <th>Order Date</th>\n",
              "      <th>Ship Date</th>\n",
              "      <th>Ship Mode</th>\n",
              "      <th>Customer ID</th>\n",
              "      <th>Customer Name</th>\n",
              "      <th>Segment</th>\n",
              "      <th>Country</th>\n",
              "      <th>City</th>\n",
              "      <th>...</th>\n",
              "      <th>Postal Code</th>\n",
              "      <th>Region</th>\n",
              "      <th>Product ID</th>\n",
              "      <th>Category</th>\n",
              "      <th>Sub-Category</th>\n",
              "      <th>Product Name</th>\n",
              "      <th>Sales</th>\n",
              "      <th>Quantity</th>\n",
              "      <th>Discount</th>\n",
              "      <th>Profit</th>\n",
              "    </tr>\n",
              "  </thead>\n",
              "  <tbody>\n",
              "    <tr>\n",
              "      <th>0</th>\n",
              "      <td>1</td>\n",
              "      <td>CA-2016-152156</td>\n",
              "      <td>11/8/2016</td>\n",
              "      <td>11/11/2016</td>\n",
              "      <td>Second Class</td>\n",
              "      <td>CG-12520</td>\n",
              "      <td>Claire Gute</td>\n",
              "      <td>Consumer</td>\n",
              "      <td>United States</td>\n",
              "      <td>Henderson</td>\n",
              "      <td>...</td>\n",
              "      <td>42420</td>\n",
              "      <td>South</td>\n",
              "      <td>FUR-BO-10001798</td>\n",
              "      <td>Furniture</td>\n",
              "      <td>Bookcases</td>\n",
              "      <td>Bush Somerset Collection Bookcase</td>\n",
              "      <td>261.9600</td>\n",
              "      <td>2</td>\n",
              "      <td>0.00</td>\n",
              "      <td>41.9136</td>\n",
              "    </tr>\n",
              "    <tr>\n",
              "      <th>1</th>\n",
              "      <td>2</td>\n",
              "      <td>CA-2016-152156</td>\n",
              "      <td>11/8/2016</td>\n",
              "      <td>11/11/2016</td>\n",
              "      <td>Second Class</td>\n",
              "      <td>CG-12520</td>\n",
              "      <td>Claire Gute</td>\n",
              "      <td>Consumer</td>\n",
              "      <td>United States</td>\n",
              "      <td>Henderson</td>\n",
              "      <td>...</td>\n",
              "      <td>42420</td>\n",
              "      <td>South</td>\n",
              "      <td>FUR-CH-10000454</td>\n",
              "      <td>Furniture</td>\n",
              "      <td>Chairs</td>\n",
              "      <td>Hon Deluxe Fabric Upholstered Stacking Chairs,...</td>\n",
              "      <td>731.9400</td>\n",
              "      <td>3</td>\n",
              "      <td>0.00</td>\n",
              "      <td>219.5820</td>\n",
              "    </tr>\n",
              "    <tr>\n",
              "      <th>2</th>\n",
              "      <td>3</td>\n",
              "      <td>CA-2016-138688</td>\n",
              "      <td>6/12/2016</td>\n",
              "      <td>6/16/2016</td>\n",
              "      <td>Second Class</td>\n",
              "      <td>DV-13045</td>\n",
              "      <td>Darrin Van Huff</td>\n",
              "      <td>Corporate</td>\n",
              "      <td>United States</td>\n",
              "      <td>Los Angeles</td>\n",
              "      <td>...</td>\n",
              "      <td>90036</td>\n",
              "      <td>West</td>\n",
              "      <td>OFF-LA-10000240</td>\n",
              "      <td>Office Supplies</td>\n",
              "      <td>Labels</td>\n",
              "      <td>Self-Adhesive Address Labels for Typewriters b...</td>\n",
              "      <td>14.6200</td>\n",
              "      <td>2</td>\n",
              "      <td>0.00</td>\n",
              "      <td>6.8714</td>\n",
              "    </tr>\n",
              "    <tr>\n",
              "      <th>3</th>\n",
              "      <td>4</td>\n",
              "      <td>US-2015-108966</td>\n",
              "      <td>10/11/2015</td>\n",
              "      <td>10/18/2015</td>\n",
              "      <td>Standard Class</td>\n",
              "      <td>SO-20335</td>\n",
              "      <td>Sean O'Donnell</td>\n",
              "      <td>Consumer</td>\n",
              "      <td>United States</td>\n",
              "      <td>Fort Lauderdale</td>\n",
              "      <td>...</td>\n",
              "      <td>33311</td>\n",
              "      <td>South</td>\n",
              "      <td>FUR-TA-10000577</td>\n",
              "      <td>Furniture</td>\n",
              "      <td>Tables</td>\n",
              "      <td>Bretford CR4500 Series Slim Rectangular Table</td>\n",
              "      <td>957.5775</td>\n",
              "      <td>5</td>\n",
              "      <td>0.45</td>\n",
              "      <td>-383.0310</td>\n",
              "    </tr>\n",
              "    <tr>\n",
              "      <th>4</th>\n",
              "      <td>5</td>\n",
              "      <td>US-2015-108966</td>\n",
              "      <td>10/11/2015</td>\n",
              "      <td>10/18/2015</td>\n",
              "      <td>Standard Class</td>\n",
              "      <td>SO-20335</td>\n",
              "      <td>Sean O'Donnell</td>\n",
              "      <td>Consumer</td>\n",
              "      <td>United States</td>\n",
              "      <td>Fort Lauderdale</td>\n",
              "      <td>...</td>\n",
              "      <td>33311</td>\n",
              "      <td>South</td>\n",
              "      <td>OFF-ST-10000760</td>\n",
              "      <td>Office Supplies</td>\n",
              "      <td>Storage</td>\n",
              "      <td>Eldon Fold 'N Roll Cart System</td>\n",
              "      <td>22.3680</td>\n",
              "      <td>2</td>\n",
              "      <td>0.20</td>\n",
              "      <td>2.5164</td>\n",
              "    </tr>\n",
              "  </tbody>\n",
              "</table>\n",
              "<p>5 rows × 21 columns</p>\n",
              "</div>\n",
              "    <div class=\"colab-df-buttons\">\n",
              "\n",
              "  <div class=\"colab-df-container\">\n",
              "    <button class=\"colab-df-convert\" onclick=\"convertToInteractive('df-057db57e-1cba-4983-92dc-33e0ad144d66')\"\n",
              "            title=\"Convert this dataframe to an interactive table.\"\n",
              "            style=\"display:none;\">\n",
              "\n",
              "  <svg xmlns=\"http://www.w3.org/2000/svg\" height=\"24px\" viewBox=\"0 -960 960 960\">\n",
              "    <path d=\"M120-120v-720h720v720H120Zm60-500h600v-160H180v160Zm220 220h160v-160H400v160Zm0 220h160v-160H400v160ZM180-400h160v-160H180v160Zm440 0h160v-160H620v160ZM180-180h160v-160H180v160Zm440 0h160v-160H620v160Z\"/>\n",
              "  </svg>\n",
              "    </button>\n",
              "\n",
              "  <style>\n",
              "    .colab-df-container {\n",
              "      display:flex;\n",
              "      gap: 12px;\n",
              "    }\n",
              "\n",
              "    .colab-df-convert {\n",
              "      background-color: #E8F0FE;\n",
              "      border: none;\n",
              "      border-radius: 50%;\n",
              "      cursor: pointer;\n",
              "      display: none;\n",
              "      fill: #1967D2;\n",
              "      height: 32px;\n",
              "      padding: 0 0 0 0;\n",
              "      width: 32px;\n",
              "    }\n",
              "\n",
              "    .colab-df-convert:hover {\n",
              "      background-color: #E2EBFA;\n",
              "      box-shadow: 0px 1px 2px rgba(60, 64, 67, 0.3), 0px 1px 3px 1px rgba(60, 64, 67, 0.15);\n",
              "      fill: #174EA6;\n",
              "    }\n",
              "\n",
              "    .colab-df-buttons div {\n",
              "      margin-bottom: 4px;\n",
              "    }\n",
              "\n",
              "    [theme=dark] .colab-df-convert {\n",
              "      background-color: #3B4455;\n",
              "      fill: #D2E3FC;\n",
              "    }\n",
              "\n",
              "    [theme=dark] .colab-df-convert:hover {\n",
              "      background-color: #434B5C;\n",
              "      box-shadow: 0px 1px 3px 1px rgba(0, 0, 0, 0.15);\n",
              "      filter: drop-shadow(0px 1px 2px rgba(0, 0, 0, 0.3));\n",
              "      fill: #FFFFFF;\n",
              "    }\n",
              "  </style>\n",
              "\n",
              "    <script>\n",
              "      const buttonEl =\n",
              "        document.querySelector('#df-057db57e-1cba-4983-92dc-33e0ad144d66 button.colab-df-convert');\n",
              "      buttonEl.style.display =\n",
              "        google.colab.kernel.accessAllowed ? 'block' : 'none';\n",
              "\n",
              "      async function convertToInteractive(key) {\n",
              "        const element = document.querySelector('#df-057db57e-1cba-4983-92dc-33e0ad144d66');\n",
              "        const dataTable =\n",
              "          await google.colab.kernel.invokeFunction('convertToInteractive',\n",
              "                                                    [key], {});\n",
              "        if (!dataTable) return;\n",
              "\n",
              "        const docLinkHtml = 'Like what you see? Visit the ' +\n",
              "          '<a target=\"_blank\" href=https://colab.research.google.com/notebooks/data_table.ipynb>data table notebook</a>'\n",
              "          + ' to learn more about interactive tables.';\n",
              "        element.innerHTML = '';\n",
              "        dataTable['output_type'] = 'display_data';\n",
              "        await google.colab.output.renderOutput(dataTable, element);\n",
              "        const docLink = document.createElement('div');\n",
              "        docLink.innerHTML = docLinkHtml;\n",
              "        element.appendChild(docLink);\n",
              "      }\n",
              "    </script>\n",
              "  </div>\n",
              "\n",
              "\n",
              "    <div id=\"df-4262a38c-2e1e-446b-991b-78e3bbfcaabc\">\n",
              "      <button class=\"colab-df-quickchart\" onclick=\"quickchart('df-4262a38c-2e1e-446b-991b-78e3bbfcaabc')\"\n",
              "                title=\"Suggest charts\"\n",
              "                style=\"display:none;\">\n",
              "\n",
              "<svg xmlns=\"http://www.w3.org/2000/svg\" height=\"24px\"viewBox=\"0 0 24 24\"\n",
              "     width=\"24px\">\n",
              "    <g>\n",
              "        <path d=\"M19 3H5c-1.1 0-2 .9-2 2v14c0 1.1.9 2 2 2h14c1.1 0 2-.9 2-2V5c0-1.1-.9-2-2-2zM9 17H7v-7h2v7zm4 0h-2V7h2v10zm4 0h-2v-4h2v4z\"/>\n",
              "    </g>\n",
              "</svg>\n",
              "      </button>\n",
              "\n",
              "<style>\n",
              "  .colab-df-quickchart {\n",
              "      --bg-color: #E8F0FE;\n",
              "      --fill-color: #1967D2;\n",
              "      --hover-bg-color: #E2EBFA;\n",
              "      --hover-fill-color: #174EA6;\n",
              "      --disabled-fill-color: #AAA;\n",
              "      --disabled-bg-color: #DDD;\n",
              "  }\n",
              "\n",
              "  [theme=dark] .colab-df-quickchart {\n",
              "      --bg-color: #3B4455;\n",
              "      --fill-color: #D2E3FC;\n",
              "      --hover-bg-color: #434B5C;\n",
              "      --hover-fill-color: #FFFFFF;\n",
              "      --disabled-bg-color: #3B4455;\n",
              "      --disabled-fill-color: #666;\n",
              "  }\n",
              "\n",
              "  .colab-df-quickchart {\n",
              "    background-color: var(--bg-color);\n",
              "    border: none;\n",
              "    border-radius: 50%;\n",
              "    cursor: pointer;\n",
              "    display: none;\n",
              "    fill: var(--fill-color);\n",
              "    height: 32px;\n",
              "    padding: 0;\n",
              "    width: 32px;\n",
              "  }\n",
              "\n",
              "  .colab-df-quickchart:hover {\n",
              "    background-color: var(--hover-bg-color);\n",
              "    box-shadow: 0 1px 2px rgba(60, 64, 67, 0.3), 0 1px 3px 1px rgba(60, 64, 67, 0.15);\n",
              "    fill: var(--button-hover-fill-color);\n",
              "  }\n",
              "\n",
              "  .colab-df-quickchart-complete:disabled,\n",
              "  .colab-df-quickchart-complete:disabled:hover {\n",
              "    background-color: var(--disabled-bg-color);\n",
              "    fill: var(--disabled-fill-color);\n",
              "    box-shadow: none;\n",
              "  }\n",
              "\n",
              "  .colab-df-spinner {\n",
              "    border: 2px solid var(--fill-color);\n",
              "    border-color: transparent;\n",
              "    border-bottom-color: var(--fill-color);\n",
              "    animation:\n",
              "      spin 1s steps(1) infinite;\n",
              "  }\n",
              "\n",
              "  @keyframes spin {\n",
              "    0% {\n",
              "      border-color: transparent;\n",
              "      border-bottom-color: var(--fill-color);\n",
              "      border-left-color: var(--fill-color);\n",
              "    }\n",
              "    20% {\n",
              "      border-color: transparent;\n",
              "      border-left-color: var(--fill-color);\n",
              "      border-top-color: var(--fill-color);\n",
              "    }\n",
              "    30% {\n",
              "      border-color: transparent;\n",
              "      border-left-color: var(--fill-color);\n",
              "      border-top-color: var(--fill-color);\n",
              "      border-right-color: var(--fill-color);\n",
              "    }\n",
              "    40% {\n",
              "      border-color: transparent;\n",
              "      border-right-color: var(--fill-color);\n",
              "      border-top-color: var(--fill-color);\n",
              "    }\n",
              "    60% {\n",
              "      border-color: transparent;\n",
              "      border-right-color: var(--fill-color);\n",
              "    }\n",
              "    80% {\n",
              "      border-color: transparent;\n",
              "      border-right-color: var(--fill-color);\n",
              "      border-bottom-color: var(--fill-color);\n",
              "    }\n",
              "    90% {\n",
              "      border-color: transparent;\n",
              "      border-bottom-color: var(--fill-color);\n",
              "    }\n",
              "  }\n",
              "</style>\n",
              "\n",
              "      <script>\n",
              "        async function quickchart(key) {\n",
              "          const quickchartButtonEl =\n",
              "            document.querySelector('#' + key + ' button');\n",
              "          quickchartButtonEl.disabled = true;  // To prevent multiple clicks.\n",
              "          quickchartButtonEl.classList.add('colab-df-spinner');\n",
              "          try {\n",
              "            const charts = await google.colab.kernel.invokeFunction(\n",
              "                'suggestCharts', [key], {});\n",
              "          } catch (error) {\n",
              "            console.error('Error during call to suggestCharts:', error);\n",
              "          }\n",
              "          quickchartButtonEl.classList.remove('colab-df-spinner');\n",
              "          quickchartButtonEl.classList.add('colab-df-quickchart-complete');\n",
              "        }\n",
              "        (() => {\n",
              "          let quickchartButtonEl =\n",
              "            document.querySelector('#df-4262a38c-2e1e-446b-991b-78e3bbfcaabc button');\n",
              "          quickchartButtonEl.style.display =\n",
              "            google.colab.kernel.accessAllowed ? 'block' : 'none';\n",
              "        })();\n",
              "      </script>\n",
              "    </div>\n",
              "\n",
              "    </div>\n",
              "  </div>\n"
            ],
            "application/vnd.google.colaboratory.intrinsic+json": {
              "type": "dataframe",
              "variable_name": "df"
            }
          },
          "metadata": {},
          "execution_count": 4
        }
      ]
    },
    {
      "cell_type": "code",
      "source": [
        "#view dataset information\n",
        "df.info()"
      ],
      "metadata": {
        "colab": {
          "base_uri": "https://localhost:8080/"
        },
        "id": "CXZfvHawLcwU",
        "outputId": "cb6540f1-1b30-4394-cebc-1df0554c22c2"
      },
      "execution_count": null,
      "outputs": [
        {
          "output_type": "stream",
          "name": "stdout",
          "text": [
            "<class 'pandas.core.frame.DataFrame'>\n",
            "RangeIndex: 9994 entries, 0 to 9993\n",
            "Data columns (total 21 columns):\n",
            " #   Column         Non-Null Count  Dtype  \n",
            "---  ------         --------------  -----  \n",
            " 0   Row ID         9994 non-null   int64  \n",
            " 1   Order ID       9994 non-null   object \n",
            " 2   Order Date     9994 non-null   object \n",
            " 3   Ship Date      9994 non-null   object \n",
            " 4   Ship Mode      9994 non-null   object \n",
            " 5   Customer ID    9994 non-null   object \n",
            " 6   Customer Name  9994 non-null   object \n",
            " 7   Segment        9994 non-null   object \n",
            " 8   Country        9994 non-null   object \n",
            " 9   City           9994 non-null   object \n",
            " 10  State          9994 non-null   object \n",
            " 11  Postal Code    9994 non-null   int64  \n",
            " 12  Region         9994 non-null   object \n",
            " 13  Product ID     9994 non-null   object \n",
            " 14  Category       9994 non-null   object \n",
            " 15  Sub-Category   9994 non-null   object \n",
            " 16  Product Name   9994 non-null   object \n",
            " 17  Sales          9994 non-null   float64\n",
            " 18  Quantity       9994 non-null   int64  \n",
            " 19  Discount       9994 non-null   float64\n",
            " 20  Profit         9994 non-null   float64\n",
            "dtypes: float64(3), int64(3), object(15)\n",
            "memory usage: 1.6+ MB\n"
          ]
        }
      ]
    },
    {
      "cell_type": "markdown",
      "source": [
        "## EDA dan Cleaning\n",
        "\n",
        "\n",
        "1. Change the data type of the ship date and order date columns to Datetime format.\n",
        "2. Since the Order ID is not unique based on each customer's transaction on the same date, return the Row ID as the PK.\n",
        "3. Check for duplicate and null data, then clean it up."
      ],
      "metadata": {
        "id": "ghgC_OSiQPUH"
      }
    },
    {
      "cell_type": "code",
      "source": [
        "#Change the data type of the Order data and Ship date columns to datetime.\n",
        "df['Order Date'] = pd.to_datetime(df['Order Date'])\n",
        "df['Ship Date'] = pd.to_datetime(df['Ship Date'])"
      ],
      "metadata": {
        "id": "S2CDZel0QhC9"
      },
      "execution_count": null,
      "outputs": []
    },
    {
      "cell_type": "code",
      "source": [
        "#check for duplicate and null data\n",
        "duplicate = df.duplicated(subset='Row ID').sum()\n",
        "Nul = df.isnull().sum()\n",
        "\n",
        "print(duplicate)\n",
        "print(Nul)"
      ],
      "metadata": {
        "colab": {
          "base_uri": "https://localhost:8080/"
        },
        "id": "jLnXQtBzWW0t",
        "outputId": "91d2f6c0-4d3c-4927-ff81-08b3dab28f98"
      },
      "execution_count": null,
      "outputs": [
        {
          "output_type": "stream",
          "name": "stdout",
          "text": [
            "0\n",
            "Row ID           0\n",
            "Order ID         0\n",
            "Order Date       0\n",
            "Ship Date        0\n",
            "Ship Mode        0\n",
            "Customer ID      0\n",
            "Customer Name    0\n",
            "Segment          0\n",
            "Country          0\n",
            "City             0\n",
            "State            0\n",
            "Postal Code      0\n",
            "Region           0\n",
            "Product ID       0\n",
            "Category         0\n",
            "Sub-Category     0\n",
            "Product Name     0\n",
            "Sales            0\n",
            "Quantity         0\n",
            "Discount         0\n",
            "Profit           0\n",
            "dtype: int64\n"
          ]
        }
      ]
    },
    {
      "cell_type": "code",
      "source": [
        "#check the unique value of each column\n",
        "df.nunique().sort_values()"
      ],
      "metadata": {
        "colab": {
          "base_uri": "https://localhost:8080/",
          "height": 742
        },
        "id": "Px9z-jLXV5LD",
        "outputId": "8a3fcd2d-b327-49c5-82b3-6042da3b73b6"
      },
      "execution_count": null,
      "outputs": [
        {
          "output_type": "execute_result",
          "data": {
            "text/plain": [
              "Country             1\n",
              "Segment             3\n",
              "Category            3\n",
              "Ship Mode           4\n",
              "Region              4\n",
              "Discount           12\n",
              "Quantity           14\n",
              "Sub-Category       17\n",
              "State              49\n",
              "City              531\n",
              "Postal Code       631\n",
              "Customer Name     793\n",
              "Customer ID       793\n",
              "Order Date       1237\n",
              "Ship Date        1334\n",
              "Product Name     1850\n",
              "Product ID       1862\n",
              "Order ID         5009\n",
              "Sales            5825\n",
              "Profit           7287\n",
              "Row ID           9994\n",
              "dtype: int64"
            ],
            "text/html": [
              "<div>\n",
              "<style scoped>\n",
              "    .dataframe tbody tr th:only-of-type {\n",
              "        vertical-align: middle;\n",
              "    }\n",
              "\n",
              "    .dataframe tbody tr th {\n",
              "        vertical-align: top;\n",
              "    }\n",
              "\n",
              "    .dataframe thead th {\n",
              "        text-align: right;\n",
              "    }\n",
              "</style>\n",
              "<table border=\"1\" class=\"dataframe\">\n",
              "  <thead>\n",
              "    <tr style=\"text-align: right;\">\n",
              "      <th></th>\n",
              "      <th>0</th>\n",
              "    </tr>\n",
              "  </thead>\n",
              "  <tbody>\n",
              "    <tr>\n",
              "      <th>Country</th>\n",
              "      <td>1</td>\n",
              "    </tr>\n",
              "    <tr>\n",
              "      <th>Segment</th>\n",
              "      <td>3</td>\n",
              "    </tr>\n",
              "    <tr>\n",
              "      <th>Category</th>\n",
              "      <td>3</td>\n",
              "    </tr>\n",
              "    <tr>\n",
              "      <th>Ship Mode</th>\n",
              "      <td>4</td>\n",
              "    </tr>\n",
              "    <tr>\n",
              "      <th>Region</th>\n",
              "      <td>4</td>\n",
              "    </tr>\n",
              "    <tr>\n",
              "      <th>Discount</th>\n",
              "      <td>12</td>\n",
              "    </tr>\n",
              "    <tr>\n",
              "      <th>Quantity</th>\n",
              "      <td>14</td>\n",
              "    </tr>\n",
              "    <tr>\n",
              "      <th>Sub-Category</th>\n",
              "      <td>17</td>\n",
              "    </tr>\n",
              "    <tr>\n",
              "      <th>State</th>\n",
              "      <td>49</td>\n",
              "    </tr>\n",
              "    <tr>\n",
              "      <th>City</th>\n",
              "      <td>531</td>\n",
              "    </tr>\n",
              "    <tr>\n",
              "      <th>Postal Code</th>\n",
              "      <td>631</td>\n",
              "    </tr>\n",
              "    <tr>\n",
              "      <th>Customer Name</th>\n",
              "      <td>793</td>\n",
              "    </tr>\n",
              "    <tr>\n",
              "      <th>Customer ID</th>\n",
              "      <td>793</td>\n",
              "    </tr>\n",
              "    <tr>\n",
              "      <th>Order Date</th>\n",
              "      <td>1237</td>\n",
              "    </tr>\n",
              "    <tr>\n",
              "      <th>Ship Date</th>\n",
              "      <td>1334</td>\n",
              "    </tr>\n",
              "    <tr>\n",
              "      <th>Product Name</th>\n",
              "      <td>1850</td>\n",
              "    </tr>\n",
              "    <tr>\n",
              "      <th>Product ID</th>\n",
              "      <td>1862</td>\n",
              "    </tr>\n",
              "    <tr>\n",
              "      <th>Order ID</th>\n",
              "      <td>5009</td>\n",
              "    </tr>\n",
              "    <tr>\n",
              "      <th>Sales</th>\n",
              "      <td>5825</td>\n",
              "    </tr>\n",
              "    <tr>\n",
              "      <th>Profit</th>\n",
              "      <td>7287</td>\n",
              "    </tr>\n",
              "    <tr>\n",
              "      <th>Row ID</th>\n",
              "      <td>9994</td>\n",
              "    </tr>\n",
              "  </tbody>\n",
              "</table>\n",
              "</div><br><label><b>dtype:</b> int64</label>"
            ]
          },
          "metadata": {},
          "execution_count": 14
        }
      ]
    },
    {
      "cell_type": "code",
      "source": [
        "#Check the dataframe information after making changes\n",
        "df.info()"
      ],
      "metadata": {
        "colab": {
          "base_uri": "https://localhost:8080/"
        },
        "id": "YltXOxqKWVT4",
        "outputId": "0aa429fa-4c39-4495-80a4-6986b6686a0c"
      },
      "execution_count": null,
      "outputs": [
        {
          "output_type": "stream",
          "name": "stdout",
          "text": [
            "<class 'pandas.core.frame.DataFrame'>\n",
            "RangeIndex: 9994 entries, 0 to 9993\n",
            "Data columns (total 21 columns):\n",
            " #   Column         Non-Null Count  Dtype         \n",
            "---  ------         --------------  -----         \n",
            " 0   Row ID         9994 non-null   int64         \n",
            " 1   Order ID       9994 non-null   object        \n",
            " 2   Order Date     9994 non-null   datetime64[ns]\n",
            " 3   Ship Date      9994 non-null   datetime64[ns]\n",
            " 4   Ship Mode      9994 non-null   object        \n",
            " 5   Customer ID    9994 non-null   object        \n",
            " 6   Customer Name  9994 non-null   object        \n",
            " 7   Segment        9994 non-null   object        \n",
            " 8   Country        9994 non-null   object        \n",
            " 9   City           9994 non-null   object        \n",
            " 10  State          9994 non-null   object        \n",
            " 11  Postal Code    9994 non-null   int64         \n",
            " 12  Region         9994 non-null   object        \n",
            " 13  Product ID     9994 non-null   object        \n",
            " 14  Category       9994 non-null   object        \n",
            " 15  Sub-Category   9994 non-null   object        \n",
            " 16  Product Name   9994 non-null   object        \n",
            " 17  Sales          9994 non-null   float64       \n",
            " 18  Quantity       9994 non-null   int64         \n",
            " 19  Discount       9994 non-null   float64       \n",
            " 20  Profit         9994 non-null   float64       \n",
            "dtypes: datetime64[ns](2), float64(3), int64(3), object(13)\n",
            "memory usage: 1.6+ MB\n"
          ]
        }
      ]
    },
    {
      "cell_type": "markdown",
      "source": [
        "## Specific Purpose of the Analysis\n",
        "\n",
        "1. Understand sales trends based on time and product category.\n",
        "2. Identify products or categories with low margins but large discounts.\n",
        "3. Observe shipping patterns and their relationship to profit.\n",
        "4. Provide insights and strategic recommendations to increase profit.\n"
      ],
      "metadata": {
        "id": "OX9k82kiYRhp"
      }
    },
    {
      "cell_type": "markdown",
      "source": [
        "## Time Analysis"
      ],
      "metadata": {
        "id": "gZ7YL-lLpjrZ"
      }
    },
    {
      "cell_type": "code",
      "source": [
        "#create a Order_Month column\n",
        "df['Order_Month'] = df['Order Date'].dt.to_period('M')"
      ],
      "metadata": {
        "id": "fdkTWPITWu5x"
      },
      "execution_count": null,
      "outputs": []
    },
    {
      "cell_type": "code",
      "source": [
        "#calculate total monthly sales\n",
        "monthly_sales = df.groupby('Order_Month')['Sales'].sum().reset_index()\n",
        "monthly_sales['Order_Month'] = monthly_sales['Order_Month'].astype(str)\n",
        "monthly_sales.tail(10)"
      ],
      "metadata": {
        "colab": {
          "base_uri": "https://localhost:8080/",
          "height": 362
        },
        "id": "wqd39gG9awqF",
        "outputId": "abc0762c-7dd7-481c-cb32-cc6e053ef5e3"
      },
      "execution_count": null,
      "outputs": [
        {
          "output_type": "execute_result",
          "data": {
            "text/plain": [
              "   Order_Month        Sales\n",
              "38     2017-03   58872.3528\n",
              "39     2017-04   36521.5361\n",
              "40     2017-05   44261.1102\n",
              "41     2017-06   52981.7257\n",
              "42     2017-07   45264.4160\n",
              "43     2017-08   63120.8880\n",
              "44     2017-09   87866.6520\n",
              "45     2017-10   77776.9232\n",
              "46     2017-11  118447.8250\n",
              "47     2017-12   83829.3188"
            ],
            "text/html": [
              "\n",
              "  <div id=\"df-10ff976b-7f53-498a-8942-dff6fca969b0\" class=\"colab-df-container\">\n",
              "    <div>\n",
              "<style scoped>\n",
              "    .dataframe tbody tr th:only-of-type {\n",
              "        vertical-align: middle;\n",
              "    }\n",
              "\n",
              "    .dataframe tbody tr th {\n",
              "        vertical-align: top;\n",
              "    }\n",
              "\n",
              "    .dataframe thead th {\n",
              "        text-align: right;\n",
              "    }\n",
              "</style>\n",
              "<table border=\"1\" class=\"dataframe\">\n",
              "  <thead>\n",
              "    <tr style=\"text-align: right;\">\n",
              "      <th></th>\n",
              "      <th>Order_Month</th>\n",
              "      <th>Sales</th>\n",
              "    </tr>\n",
              "  </thead>\n",
              "  <tbody>\n",
              "    <tr>\n",
              "      <th>38</th>\n",
              "      <td>2017-03</td>\n",
              "      <td>58872.3528</td>\n",
              "    </tr>\n",
              "    <tr>\n",
              "      <th>39</th>\n",
              "      <td>2017-04</td>\n",
              "      <td>36521.5361</td>\n",
              "    </tr>\n",
              "    <tr>\n",
              "      <th>40</th>\n",
              "      <td>2017-05</td>\n",
              "      <td>44261.1102</td>\n",
              "    </tr>\n",
              "    <tr>\n",
              "      <th>41</th>\n",
              "      <td>2017-06</td>\n",
              "      <td>52981.7257</td>\n",
              "    </tr>\n",
              "    <tr>\n",
              "      <th>42</th>\n",
              "      <td>2017-07</td>\n",
              "      <td>45264.4160</td>\n",
              "    </tr>\n",
              "    <tr>\n",
              "      <th>43</th>\n",
              "      <td>2017-08</td>\n",
              "      <td>63120.8880</td>\n",
              "    </tr>\n",
              "    <tr>\n",
              "      <th>44</th>\n",
              "      <td>2017-09</td>\n",
              "      <td>87866.6520</td>\n",
              "    </tr>\n",
              "    <tr>\n",
              "      <th>45</th>\n",
              "      <td>2017-10</td>\n",
              "      <td>77776.9232</td>\n",
              "    </tr>\n",
              "    <tr>\n",
              "      <th>46</th>\n",
              "      <td>2017-11</td>\n",
              "      <td>118447.8250</td>\n",
              "    </tr>\n",
              "    <tr>\n",
              "      <th>47</th>\n",
              "      <td>2017-12</td>\n",
              "      <td>83829.3188</td>\n",
              "    </tr>\n",
              "  </tbody>\n",
              "</table>\n",
              "</div>\n",
              "    <div class=\"colab-df-buttons\">\n",
              "\n",
              "  <div class=\"colab-df-container\">\n",
              "    <button class=\"colab-df-convert\" onclick=\"convertToInteractive('df-10ff976b-7f53-498a-8942-dff6fca969b0')\"\n",
              "            title=\"Convert this dataframe to an interactive table.\"\n",
              "            style=\"display:none;\">\n",
              "\n",
              "  <svg xmlns=\"http://www.w3.org/2000/svg\" height=\"24px\" viewBox=\"0 -960 960 960\">\n",
              "    <path d=\"M120-120v-720h720v720H120Zm60-500h600v-160H180v160Zm220 220h160v-160H400v160Zm0 220h160v-160H400v160ZM180-400h160v-160H180v160Zm440 0h160v-160H620v160ZM180-180h160v-160H180v160Zm440 0h160v-160H620v160Z\"/>\n",
              "  </svg>\n",
              "    </button>\n",
              "\n",
              "  <style>\n",
              "    .colab-df-container {\n",
              "      display:flex;\n",
              "      gap: 12px;\n",
              "    }\n",
              "\n",
              "    .colab-df-convert {\n",
              "      background-color: #E8F0FE;\n",
              "      border: none;\n",
              "      border-radius: 50%;\n",
              "      cursor: pointer;\n",
              "      display: none;\n",
              "      fill: #1967D2;\n",
              "      height: 32px;\n",
              "      padding: 0 0 0 0;\n",
              "      width: 32px;\n",
              "    }\n",
              "\n",
              "    .colab-df-convert:hover {\n",
              "      background-color: #E2EBFA;\n",
              "      box-shadow: 0px 1px 2px rgba(60, 64, 67, 0.3), 0px 1px 3px 1px rgba(60, 64, 67, 0.15);\n",
              "      fill: #174EA6;\n",
              "    }\n",
              "\n",
              "    .colab-df-buttons div {\n",
              "      margin-bottom: 4px;\n",
              "    }\n",
              "\n",
              "    [theme=dark] .colab-df-convert {\n",
              "      background-color: #3B4455;\n",
              "      fill: #D2E3FC;\n",
              "    }\n",
              "\n",
              "    [theme=dark] .colab-df-convert:hover {\n",
              "      background-color: #434B5C;\n",
              "      box-shadow: 0px 1px 3px 1px rgba(0, 0, 0, 0.15);\n",
              "      filter: drop-shadow(0px 1px 2px rgba(0, 0, 0, 0.3));\n",
              "      fill: #FFFFFF;\n",
              "    }\n",
              "  </style>\n",
              "\n",
              "    <script>\n",
              "      const buttonEl =\n",
              "        document.querySelector('#df-10ff976b-7f53-498a-8942-dff6fca969b0 button.colab-df-convert');\n",
              "      buttonEl.style.display =\n",
              "        google.colab.kernel.accessAllowed ? 'block' : 'none';\n",
              "\n",
              "      async function convertToInteractive(key) {\n",
              "        const element = document.querySelector('#df-10ff976b-7f53-498a-8942-dff6fca969b0');\n",
              "        const dataTable =\n",
              "          await google.colab.kernel.invokeFunction('convertToInteractive',\n",
              "                                                    [key], {});\n",
              "        if (!dataTable) return;\n",
              "\n",
              "        const docLinkHtml = 'Like what you see? Visit the ' +\n",
              "          '<a target=\"_blank\" href=https://colab.research.google.com/notebooks/data_table.ipynb>data table notebook</a>'\n",
              "          + ' to learn more about interactive tables.';\n",
              "        element.innerHTML = '';\n",
              "        dataTable['output_type'] = 'display_data';\n",
              "        await google.colab.output.renderOutput(dataTable, element);\n",
              "        const docLink = document.createElement('div');\n",
              "        docLink.innerHTML = docLinkHtml;\n",
              "        element.appendChild(docLink);\n",
              "      }\n",
              "    </script>\n",
              "  </div>\n",
              "\n",
              "\n",
              "    <div id=\"df-69b69527-8ce1-44e8-86c4-f080ccce95d1\">\n",
              "      <button class=\"colab-df-quickchart\" onclick=\"quickchart('df-69b69527-8ce1-44e8-86c4-f080ccce95d1')\"\n",
              "                title=\"Suggest charts\"\n",
              "                style=\"display:none;\">\n",
              "\n",
              "<svg xmlns=\"http://www.w3.org/2000/svg\" height=\"24px\"viewBox=\"0 0 24 24\"\n",
              "     width=\"24px\">\n",
              "    <g>\n",
              "        <path d=\"M19 3H5c-1.1 0-2 .9-2 2v14c0 1.1.9 2 2 2h14c1.1 0 2-.9 2-2V5c0-1.1-.9-2-2-2zM9 17H7v-7h2v7zm4 0h-2V7h2v10zm4 0h-2v-4h2v4z\"/>\n",
              "    </g>\n",
              "</svg>\n",
              "      </button>\n",
              "\n",
              "<style>\n",
              "  .colab-df-quickchart {\n",
              "      --bg-color: #E8F0FE;\n",
              "      --fill-color: #1967D2;\n",
              "      --hover-bg-color: #E2EBFA;\n",
              "      --hover-fill-color: #174EA6;\n",
              "      --disabled-fill-color: #AAA;\n",
              "      --disabled-bg-color: #DDD;\n",
              "  }\n",
              "\n",
              "  [theme=dark] .colab-df-quickchart {\n",
              "      --bg-color: #3B4455;\n",
              "      --fill-color: #D2E3FC;\n",
              "      --hover-bg-color: #434B5C;\n",
              "      --hover-fill-color: #FFFFFF;\n",
              "      --disabled-bg-color: #3B4455;\n",
              "      --disabled-fill-color: #666;\n",
              "  }\n",
              "\n",
              "  .colab-df-quickchart {\n",
              "    background-color: var(--bg-color);\n",
              "    border: none;\n",
              "    border-radius: 50%;\n",
              "    cursor: pointer;\n",
              "    display: none;\n",
              "    fill: var(--fill-color);\n",
              "    height: 32px;\n",
              "    padding: 0;\n",
              "    width: 32px;\n",
              "  }\n",
              "\n",
              "  .colab-df-quickchart:hover {\n",
              "    background-color: var(--hover-bg-color);\n",
              "    box-shadow: 0 1px 2px rgba(60, 64, 67, 0.3), 0 1px 3px 1px rgba(60, 64, 67, 0.15);\n",
              "    fill: var(--button-hover-fill-color);\n",
              "  }\n",
              "\n",
              "  .colab-df-quickchart-complete:disabled,\n",
              "  .colab-df-quickchart-complete:disabled:hover {\n",
              "    background-color: var(--disabled-bg-color);\n",
              "    fill: var(--disabled-fill-color);\n",
              "    box-shadow: none;\n",
              "  }\n",
              "\n",
              "  .colab-df-spinner {\n",
              "    border: 2px solid var(--fill-color);\n",
              "    border-color: transparent;\n",
              "    border-bottom-color: var(--fill-color);\n",
              "    animation:\n",
              "      spin 1s steps(1) infinite;\n",
              "  }\n",
              "\n",
              "  @keyframes spin {\n",
              "    0% {\n",
              "      border-color: transparent;\n",
              "      border-bottom-color: var(--fill-color);\n",
              "      border-left-color: var(--fill-color);\n",
              "    }\n",
              "    20% {\n",
              "      border-color: transparent;\n",
              "      border-left-color: var(--fill-color);\n",
              "      border-top-color: var(--fill-color);\n",
              "    }\n",
              "    30% {\n",
              "      border-color: transparent;\n",
              "      border-left-color: var(--fill-color);\n",
              "      border-top-color: var(--fill-color);\n",
              "      border-right-color: var(--fill-color);\n",
              "    }\n",
              "    40% {\n",
              "      border-color: transparent;\n",
              "      border-right-color: var(--fill-color);\n",
              "      border-top-color: var(--fill-color);\n",
              "    }\n",
              "    60% {\n",
              "      border-color: transparent;\n",
              "      border-right-color: var(--fill-color);\n",
              "    }\n",
              "    80% {\n",
              "      border-color: transparent;\n",
              "      border-right-color: var(--fill-color);\n",
              "      border-bottom-color: var(--fill-color);\n",
              "    }\n",
              "    90% {\n",
              "      border-color: transparent;\n",
              "      border-bottom-color: var(--fill-color);\n",
              "    }\n",
              "  }\n",
              "</style>\n",
              "\n",
              "      <script>\n",
              "        async function quickchart(key) {\n",
              "          const quickchartButtonEl =\n",
              "            document.querySelector('#' + key + ' button');\n",
              "          quickchartButtonEl.disabled = true;  // To prevent multiple clicks.\n",
              "          quickchartButtonEl.classList.add('colab-df-spinner');\n",
              "          try {\n",
              "            const charts = await google.colab.kernel.invokeFunction(\n",
              "                'suggestCharts', [key], {});\n",
              "          } catch (error) {\n",
              "            console.error('Error during call to suggestCharts:', error);\n",
              "          }\n",
              "          quickchartButtonEl.classList.remove('colab-df-spinner');\n",
              "          quickchartButtonEl.classList.add('colab-df-quickchart-complete');\n",
              "        }\n",
              "        (() => {\n",
              "          let quickchartButtonEl =\n",
              "            document.querySelector('#df-69b69527-8ce1-44e8-86c4-f080ccce95d1 button');\n",
              "          quickchartButtonEl.style.display =\n",
              "            google.colab.kernel.accessAllowed ? 'block' : 'none';\n",
              "        })();\n",
              "      </script>\n",
              "    </div>\n",
              "\n",
              "    </div>\n",
              "  </div>\n"
            ],
            "application/vnd.google.colaboratory.intrinsic+json": {
              "type": "dataframe",
              "repr_error": "0"
            }
          },
          "metadata": {},
          "execution_count": 17
        }
      ]
    },
    {
      "cell_type": "markdown",
      "source": [
        "### Sales by Month\n"
      ],
      "metadata": {
        "id": "YUVpDS7mZxG-"
      }
    },
    {
      "cell_type": "code",
      "source": [
        "#visualize monthly sales\n",
        "plt.figure(figsize=(12, 6))\n",
        "plt.plot(monthly_sales['Order_Month'], monthly_sales['Sales'], marker='o')\n",
        "plt.title('Total Penjualan per Bulan')\n",
        "plt.xlabel('Bulan')\n",
        "plt.ylabel('Total Penjualan')\n",
        "plt.xticks(rotation=45)\n",
        "plt.grid(True)\n",
        "plt.tight_layout()\n",
        "plt.show()"
      ],
      "metadata": {
        "colab": {
          "base_uri": "https://localhost:8080/",
          "height": 607
        },
        "id": "USGffkX0bk7x",
        "outputId": "ce9f4f45-7d6e-4b86-f2c5-9fdb93564b3b"
      },
      "execution_count": null,
      "outputs": [
        {
          "output_type": "display_data",
          "data": {
            "text/plain": [
              "<Figure size 1200x600 with 1 Axes>"
            ],
            "image/png": "[encoded data removed]"
          },
          "metadata": {}
        }
      ]
    },
    {
      "cell_type": "markdown",
      "source": [
        "Since the product order date data in date time format is not effectively visualized, add a month column so that sales figures can be totaled in a format that is easier to visualize."
      ],
      "metadata": {
        "id": "FWDMfVf2Yrsq"
      }
    },
    {
      "cell_type": "code",
      "source": [
        "df.info()"
      ],
      "metadata": {
        "colab": {
          "base_uri": "https://localhost:8080/"
        },
        "id": "yRAkq0zXayBD",
        "outputId": "b2d9396a-ca8e-4452-84f8-117298251f9c"
      },
      "execution_count": null,
      "outputs": [
        {
          "output_type": "stream",
          "name": "stdout",
          "text": [
            "<class 'pandas.core.frame.DataFrame'>\n",
            "RangeIndex: 9994 entries, 0 to 9993\n",
            "Data columns (total 22 columns):\n",
            " #   Column         Non-Null Count  Dtype         \n",
            "---  ------         --------------  -----         \n",
            " 0   Row ID         9994 non-null   int64         \n",
            " 1   Order ID       9994 non-null   object        \n",
            " 2   Order Date     9994 non-null   datetime64[ns]\n",
            " 3   Ship Date      9994 non-null   datetime64[ns]\n",
            " 4   Ship Mode      9994 non-null   object        \n",
            " 5   Customer ID    9994 non-null   object        \n",
            " 6   Customer Name  9994 non-null   object        \n",
            " 7   Segment        9994 non-null   object        \n",
            " 8   Country        9994 non-null   object        \n",
            " 9   City           9994 non-null   object        \n",
            " 10  State          9994 non-null   object        \n",
            " 11  Postal Code    9994 non-null   int64         \n",
            " 12  Region         9994 non-null   object        \n",
            " 13  Product ID     9994 non-null   object        \n",
            " 14  Category       9994 non-null   object        \n",
            " 15  Sub-Category   9994 non-null   object        \n",
            " 16  Product Name   9994 non-null   object        \n",
            " 17  Sales          9994 non-null   float64       \n",
            " 18  Quantity       9994 non-null   int64         \n",
            " 19  Discount       9994 non-null   float64       \n",
            " 20  Profit         9994 non-null   float64       \n",
            " 21  Order_Month    9994 non-null   period[M]     \n",
            "dtypes: datetime64[ns](2), float64(3), int64(3), object(13), period[M](1)\n",
            "memory usage: 1.7+ MB\n"
          ]
        }
      ]
    },
    {
      "cell_type": "code",
      "source": [
        "(df['Sales'].sum(), df['Profit'].sum(), len(df))"
      ],
      "metadata": {
        "colab": {
          "base_uri": "https://localhost:8080/"
        },
        "id": "bo53gGhTPY56",
        "outputId": "5ab0edaf-2bbc-4a0c-a8fc-0a6e47b63697"
      },
      "execution_count": null,
      "outputs": [
        {
          "output_type": "execute_result",
          "data": {
            "text/plain": [
              "(np.float64(2297200.8603000003), np.float64(286397.0217), 9994)"
            ]
          },
          "metadata": {},
          "execution_count": 7
        }
      ]
    },
    {
      "cell_type": "code",
      "source": [
        "print(df['Sales'].head(10))\n",
        "print(df['Profit'].head(10))"
      ],
      "metadata": {
        "id": "gkuBfYmgPzGy",
        "outputId": "6b58e13a-76de-4198-f2fe-c726f51b5bb2",
        "colab": {
          "base_uri": "https://localhost:8080/"
        }
      },
      "execution_count": null,
      "outputs": [
        {
          "output_type": "stream",
          "name": "stdout",
          "text": [
            "0    261.9600\n",
            "1    731.9400\n",
            "2     14.6200\n",
            "3    957.5775\n",
            "4     22.3680\n",
            "5     48.8600\n",
            "6      7.2800\n",
            "7    907.1520\n",
            "8     18.5040\n",
            "9    114.9000\n",
            "Name: Sales, dtype: float64\n",
            "0     41.9136\n",
            "1    219.5820\n",
            "2      6.8714\n",
            "3   -383.0310\n",
            "4      2.5164\n",
            "5     14.1694\n",
            "6      1.9656\n",
            "7     90.7152\n",
            "8      5.7825\n",
            "9     34.4700\n",
            "Name: Profit, dtype: float64\n"
          ]
        }
      ]
    },
    {
      "cell_type": "code",
      "source": [
        "#create Month adn year column\n",
        "df['Year'] = df['Order Date'].dt.year\n",
        "df['Month'] = df['Order Date'].dt.month"
      ],
      "metadata": {
        "id": "-wB2v90ib5gs"
      },
      "execution_count": null,
      "outputs": []
    },
    {
      "cell_type": "code",
      "source": [
        "# Create Month_Name Column and Set from number format to name\n",
        "df['Month_Name'] = df['Month'].apply(lambda x: calendar.month_name[x])"
      ],
      "metadata": {
        "id": "KdeKSSXgdaLS"
      },
      "execution_count": null,
      "outputs": []
    },
    {
      "cell_type": "code",
      "source": [
        "# Arrange the order of month names categorically according to the order of month names in the calendar.\n",
        "month_order = list(calendar.month_name[1:])  # ['January', ..., 'December']\n",
        "df['Month_Name'] = pd.Categorical(df['Month_Name'], categories=month_order, ordered=True)"
      ],
      "metadata": {
        "id": "iHQN3qRkdblr"
      },
      "execution_count": null,
      "outputs": []
    },
    {
      "cell_type": "code",
      "source": [
        "df.Month_Name.unique()"
      ],
      "metadata": {
        "colab": {
          "base_uri": "https://localhost:8080/"
        },
        "id": "JVeNFJ_1dr_u",
        "outputId": "38698631-0d8a-4699-b7ab-8582c2073555"
      },
      "execution_count": null,
      "outputs": [
        {
          "output_type": "execute_result",
          "data": {
            "text/plain": [
              "['November', 'June', 'October', 'April', 'December', ..., 'July', 'September', 'January', 'March', 'February']\n",
              "Length: 12\n",
              "Categories (12, object): ['January' < 'February' < 'March' < 'April' ... 'September' < 'October' <\n",
              "                          'November' < 'December']"
            ]
          },
          "metadata": {},
          "execution_count": 23
        }
      ]
    },
    {
      "cell_type": "code",
      "source": [
        "#create summary sales variabel\n",
        "summary_sales = df.groupby(['Year', 'Month_Name'])['Sales'].sum().reset_index()\n",
        "summary_sales = summary_sales.sort_values(['Year', 'Month_Name']).reset_index(drop=True)\n",
        "print(summary_sales)"
      ],
      "metadata": {
        "colab": {
          "base_uri": "https://localhost:8080/"
        },
        "id": "CTBJ5ac5d51D",
        "outputId": "3dedb670-495e-4bf0-8e4c-6e26717069f5"
      },
      "execution_count": null,
      "outputs": [
        {
          "output_type": "stream",
          "name": "stdout",
          "text": [
            "    Year Month_Name        Sales\n",
            "0   2014    January   14236.8950\n",
            "1   2014   February    4519.8920\n",
            "2   2014      March   55691.0090\n",
            "3   2014      April   28295.3450\n",
            "4   2014        May   23648.2870\n",
            "5   2014       June   34595.1276\n",
            "6   2014       July   33946.3930\n",
            "7   2014     August   27909.4685\n",
            "8   2014  September   81777.3508\n",
            "9   2014    October   31453.3930\n",
            "10  2014   November   78628.7167\n",
            "11  2014   December   69545.6205\n",
            "12  2015    January   18174.0756\n",
            "13  2015   February   11951.4110\n",
            "14  2015      March   38726.2520\n",
            "15  2015      April   34195.2085\n",
            "16  2015        May   30131.6865\n",
            "17  2015       June   24797.2920\n",
            "18  2015       July   28765.3250\n",
            "19  2015     August   36898.3322\n",
            "20  2015  September   64595.9180\n",
            "21  2015    October   31404.9235\n",
            "22  2015   November   75972.5635\n",
            "23  2015   December   74919.5212\n",
            "24  2016    January   18542.4910\n",
            "25  2016   February   22978.8150\n",
            "26  2016      March   51715.8750\n",
            "27  2016      April   38750.0390\n",
            "28  2016        May   56987.7280\n",
            "29  2016       June   40344.5340\n",
            "30  2016       July   39261.9630\n",
            "31  2016     August   31115.3743\n",
            "32  2016  September   73410.0249\n",
            "33  2016    October   59687.7450\n",
            "34  2016   November   79411.9658\n",
            "35  2016   December   96999.0430\n",
            "36  2017    January   43971.3740\n",
            "37  2017   February   20301.1334\n",
            "38  2017      March   58872.3528\n",
            "39  2017      April   36521.5361\n",
            "40  2017        May   44261.1102\n",
            "41  2017       June   52981.7257\n",
            "42  2017       July   45264.4160\n",
            "43  2017     August   63120.8880\n",
            "44  2017  September   87866.6520\n",
            "45  2017    October   77776.9232\n",
            "46  2017   November  118447.8250\n",
            "47  2017   December   83829.3188\n"
          ]
        },
        {
          "output_type": "stream",
          "name": "stderr",
          "text": [
            "/tmp/ipython-input-2884047590.py:2: FutureWarning: The default of observed=False is deprecated and will be changed to True in a future version of pandas. Pass observed=False to retain current behavior or observed=True to adopt the future default and silence this warning.\n",
            "  summary_sales = df.groupby(['Year', 'Month_Name'])['Sales'].sum().reset_index()\n"
          ]
        }
      ]
    },
    {
      "cell_type": "code",
      "source": [
        "#view sales by year\n",
        "summary_sales2 = df.groupby(['Year'])['Sales'].sum().reset_index()\n",
        "summary_sales2 = summary_sales2.sort_values(['Year']).reset_index(drop=True)\n",
        "print(summary_sales2)"
      ],
      "metadata": {
        "colab": {
          "base_uri": "https://localhost:8080/"
        },
        "id": "vTY3Cjj4eLIT",
        "outputId": "9a46f332-b31e-4888-e6f7-8977a22b2cd1"
      },
      "execution_count": null,
      "outputs": [
        {
          "output_type": "stream",
          "name": "stdout",
          "text": [
            "   Year        Sales\n",
            "0  2014  484247.4981\n",
            "1  2015  470532.5090\n",
            "2  2016  609205.5980\n",
            "3  2017  733215.2552\n"
          ]
        }
      ]
    },
    {
      "cell_type": "markdown",
      "source": [
        "### Profit by Month"
      ],
      "metadata": {
        "id": "B_TF4u4effyH"
      }
    },
    {
      "cell_type": "code",
      "source": [
        "#create summary profit variabel\n",
        "summary_profit = df.groupby(['Year', 'Month_Name'])['Profit'].sum().reset_index()\n",
        "summary_profit = summary_profit.sort_values(['Year', 'Month_Name']).reset_index(drop=True)\n",
        "print(summary_profit)"
      ],
      "metadata": {
        "colab": {
          "base_uri": "https://localhost:8080/"
        },
        "id": "9Q_RtsBqfcH5",
        "outputId": "c8680d4d-1700-464c-9f66-dca5dcf138c7"
      },
      "execution_count": null,
      "outputs": [
        {
          "output_type": "stream",
          "name": "stdout",
          "text": [
            "    Year Month_Name      Profit\n",
            "0   2014    January   2450.1907\n",
            "1   2014   February    862.3084\n",
            "2   2014      March    498.7299\n",
            "3   2014      April   3488.8352\n",
            "4   2014        May   2738.7096\n",
            "5   2014       June   4976.5244\n",
            "6   2014       July   -841.4826\n",
            "7   2014     August   5318.1050\n",
            "8   2014  September   8328.0994\n",
            "9   2014    October   3448.2573\n",
            "10  2014   November   9292.1269\n",
            "11  2014   December   8983.5699\n",
            "12  2015    January  -3281.0070\n",
            "13  2015   February   2813.8508\n",
            "14  2015      March   9732.0978\n",
            "15  2015      April   4187.4962\n",
            "16  2015        May   4667.8690\n",
            "17  2015       June   3335.5572\n",
            "18  2015       July   3288.6483\n",
            "19  2015     August   5355.8084\n",
            "20  2015  September   8209.1627\n",
            "21  2015    October   2817.3660\n",
            "22  2015   November  12474.7884\n",
            "23  2015   December   8016.9659\n",
            "24  2016    January   2824.8233\n",
            "25  2016   February   5004.5795\n",
            "26  2016      March   3611.9680\n",
            "27  2016      April   2977.8149\n",
            "28  2016        May   8662.1464\n",
            "29  2016       June   4750.3781\n",
            "30  2016       July   4432.8779\n",
            "31  2016     August   2062.0693\n",
            "32  2016  September   9328.6576\n",
            "33  2016    October  16243.1425\n",
            "34  2016   November   4011.4075\n",
            "35  2016   December  17885.3093\n",
            "36  2017    January   7140.4391\n",
            "37  2017   February   1613.8720\n",
            "38  2017      March  14751.8915\n",
            "39  2017      April    933.2900\n",
            "40  2017        May   6342.5828\n",
            "41  2017       June   8223.3357\n",
            "42  2017       July   6952.6212\n",
            "43  2017     August   9040.9557\n",
            "44  2017  September  10991.5556\n",
            "45  2017    October   9275.2755\n",
            "46  2017   November   9690.1037\n",
            "47  2017   December   8483.3468\n"
          ]
        },
        {
          "output_type": "stream",
          "name": "stderr",
          "text": [
            "/tmp/ipython-input-2354200529.py:2: FutureWarning: The default of observed=False is deprecated and will be changed to True in a future version of pandas. Pass observed=False to retain current behavior or observed=True to adopt the future default and silence this warning.\n",
            "  summary_profit = df.groupby(['Year', 'Month_Name'])['Profit'].sum().reset_index()\n"
          ]
        }
      ]
    },
    {
      "cell_type": "code",
      "source": [
        "df['Sales'].sum()"
      ],
      "metadata": {
        "colab": {
          "base_uri": "https://localhost:8080/"
        },
        "id": "TolJzk2vGVYm",
        "outputId": "4ecded17-4f56-4a72-ffe8-a43e8233398f"
      },
      "execution_count": null,
      "outputs": [
        {
          "output_type": "execute_result",
          "data": {
            "text/plain": [
              "np.float64(2297200.8603000003)"
            ]
          },
          "metadata": {},
          "execution_count": 37
        }
      ]
    },
    {
      "cell_type": "code",
      "source": [
        "#view profit by year\n",
        "summary_profit2 = df.groupby(['Year'])['Profit'].sum().reset_index()\n",
        "summary_profit2 = summary_profit2.sort_values(['Year']).reset_index(drop=True)\n",
        "print(summary_profit2)"
      ],
      "metadata": {
        "colab": {
          "base_uri": "https://localhost:8080/"
        },
        "id": "cvKn6vsDewDc",
        "outputId": "02a1a49d-188e-48d5-c528-bbf3de1888a6"
      },
      "execution_count": null,
      "outputs": [
        {
          "output_type": "stream",
          "name": "stdout",
          "text": [
            "   Year      Profit\n",
            "0  2014  49543.9741\n",
            "1  2015  61618.6037\n",
            "2  2016  81795.1743\n",
            "3  2017  93439.2696\n"
          ]
        }
      ]
    },
    {
      "cell_type": "code",
      "source": [
        "# Hitung sales dan profit per bulan per tahun\n",
        "summary_month = df.groupby(['Year', 'Month_Name'])[['Sales','Profit']].sum().reset_index()\n",
        "\n",
        "# Pastikan tahun urut\n",
        "years = sorted(summary_month['Year'].unique())\n",
        "\n",
        "# Warna sesuai urutan tahun: merah → kuning → hijau → biru\n",
        "colors = ['red', 'gold', 'green', 'blue']\n",
        "\n",
        "# Buat canvas 2 kolom\n",
        "fig, axes = plt.subplots(1, 2, figsize=(18, 6), sharex=True)\n",
        "\n",
        "# ----- SALES -----\n",
        "for year, color in zip(years, colors):\n",
        "    data = summary_month[summary_month['Year'] == year]\n",
        "    axes[0].plot(data['Month_Name'], data['Sales'], marker='o', label=str(year), color=color)\n",
        "\n",
        "axes[0].set_title('Monthly Sales by Year', fontsize=14)\n",
        "axes[0].set_ylabel('Total Sales')\n",
        "axes[0].tick_params(axis='x', rotation=45)\n",
        "axes[0].legend()\n",
        "\n",
        "# ----- PROFIT -----\n",
        "for year, color in zip(years, colors):\n",
        "    data = summary_month[summary_month['Year'] == year]\n",
        "    axes[1].plot(data['Month_Name'], data['Profit'], marker='o', label=str(year), color=color)\n",
        "\n",
        "axes[1].set_title('Monthly Profit by Year', fontsize=14)\n",
        "axes[1].set_ylabel('Total Profit')\n",
        "axes[1].tick_params(axis='x', rotation=45)\n",
        "axes[1].legend()\n",
        "\n",
        "plt.tight_layout()\n",
        "plt.show()"
      ],
      "metadata": {
        "colab": {
          "base_uri": "https://localhost:8080/",
          "height": 502
        },
        "id": "1t2dKAkZ7ufM",
        "outputId": "46c7d2c5-0aa7-47fd-c021-0e00a951eb1e"
      },
      "execution_count": null,
      "outputs": [
        {
          "output_type": "stream",
          "name": "stderr",
          "text": [
            "/tmp/ipython-input-3387900695.py:2: FutureWarning: The default of observed=False is deprecated and will be changed to True in a future version of pandas. Pass observed=False to retain current behavior or observed=True to adopt the future default and silence this warning.\n",
            "  summary_month = df.groupby(['Year', 'Month_Name'])[['Sales','Profit']].sum().reset_index()\n"
          ]
        },
        {
          "output_type": "display_data",
          "data": {
            "text/plain": [
              "<Figure size 1800x600 with 2 Axes>"
            ],
            "image/png": "[encoded data removed]"
          },
          "metadata": {}
        }
      ]
    },
    {
      "cell_type": "code",
      "source": [
        "# Group sales & profit by year\n",
        "summary_year = df.groupby(['Year'])[['Sales','Profit']].sum().reset_index()\n",
        "summary_year = summary_year.sort_values('Year')\n",
        "\n",
        "# Data\n",
        "years = summary_year['Year']\n",
        "sales = summary_year['Sales']\n",
        "profit = summary_year['Profit']\n",
        "\n",
        "# Bar position\n",
        "x = np.arange(len(years))\n",
        "width = 0.30\n",
        "\n",
        "plt.figure(figsize=(8,5))\n",
        "bars1 = plt.bar(x - width/2, sales, width, label=\"Sales\", color=\"skyblue\", edgecolor=\"black\")\n",
        "bars2 = plt.bar(x + width/2, profit, width, label=\"Profit\", color=\"lightgreen\", edgecolor=\"black\")\n",
        "\n",
        "# Tambahkan angka di atas bar\n",
        "for bar in bars1:\n",
        "    yval = bar.get_height()\n",
        "    plt.text(bar.get_x() + bar.get_width()/2, yval + (0.01*yval),\n",
        "             f\"{yval:,.0f}\", ha='center', va='bottom', fontsize=9)\n",
        "\n",
        "for bar in bars2:\n",
        "    yval = bar.get_height()\n",
        "    plt.text(bar.get_x() + bar.get_width()/2, yval + (0.01*yval),\n",
        "             f\"{yval:,.0f}\", ha='center', va='bottom', fontsize=9)\n",
        "\n",
        "plt.xticks(x, years)\n",
        "plt.title(\"Total Sales & Profit by Year\", fontsize=14, weight=\"bold\")\n",
        "plt.xlabel(\"Year\")\n",
        "plt.ylabel(\"Amount\")\n",
        "plt.legend()\n",
        "plt.tight_layout()\n",
        "plt.show()"
      ],
      "metadata": {
        "colab": {
          "base_uri": "https://localhost:8080/",
          "height": 507
        },
        "id": "rO4Er6O166AZ",
        "outputId": "2116a636-11ee-4eaa-ab6c-970be6a958e4"
      },
      "execution_count": null,
      "outputs": [
        {
          "output_type": "display_data",
          "data": {
            "text/plain": [
              "<Figure size 800x500 with 1 Axes>"
            ],
            "image/png": "[encoded data removed]"
          },
          "metadata": {}
        }
      ]
    },
    {
      "cell_type": "markdown",
      "source": [
        "#### Time analysis by year and month sales profit with recommendations\n",
        "\n",
        "1. Seasonal Patterns\n",
        "- Seasonal patterns are repetitive. Increases and decreases are almost the same every month.\n",
        "- July-August tends to experience a decline in sales and profits. These months coincide with long holidays, so spending tends to be reduced for clothing or tertiary needs. Special promotional strategies should be implemented mid-year to prevent the decline from becoming too steep.  \n",
        "- September marks the peak of annual sales and profit growth.  \n",
        "- Q4 experiences stable growth compared to other months each year. This season coincides with year-end festivals and the start of the school semester. Focus on promotions, campaigns, and inventory to meet surging demand and maximize profits.\n",
        "\n",
        "2. Year-on-Year Growth\n",
        "- Generally, monthly trends show a year-on-year increase, although the ups and downs are relatively consistent.\n",
        "- In other words, the company has successfully maintained seasonal patterns while also achieving year-on-year sales growth."
      ],
      "metadata": {
        "id": "e96QsZV75YhK"
      }
    },
    {
      "cell_type": "markdown",
      "source": [
        "## Product Analysis"
      ],
      "metadata": {
        "id": "uFpZrPI6pyRO"
      }
    },
    {
      "cell_type": "markdown",
      "source": [
        "View sales analysis by product category\n",
        "\n",
        "1. View the most purchased categories based on order ID\n",
        "2. View the product categories with the highest sales and profits\n"
      ],
      "metadata": {
        "id": "J0o94O9P-hST"
      }
    },
    {
      "cell_type": "code",
      "source": [
        "#unique values in the category\n",
        "df.Category.unique()"
      ],
      "metadata": {
        "colab": {
          "base_uri": "https://localhost:8080/"
        },
        "id": "NFn8x1q6_lN3",
        "outputId": "e7c2fdd5-4f3f-4be4-d05b-a3d50af6c930"
      },
      "execution_count": null,
      "outputs": [
        {
          "output_type": "execute_result",
          "data": {
            "text/plain": [
              "array(['Furniture', 'Office Supplies', 'Technology'], dtype=object)"
            ]
          },
          "metadata": {},
          "execution_count": 30
        }
      ]
    },
    {
      "cell_type": "code",
      "source": [
        "df.rename(columns={'Sub-Category': 'Sub_Category'}, inplace=True)"
      ],
      "metadata": {
        "id": "TLCu0A9wqoqm"
      },
      "execution_count": null,
      "outputs": []
    },
    {
      "cell_type": "markdown",
      "source": [
        "#### Categories Based on Number of Orders"
      ],
      "metadata": {
        "id": "_vL_HrPZ_sb0"
      }
    },
    {
      "cell_type": "code",
      "source": [
        "#the most ordered product categories\n",
        "category_order_count = df['Category'].value_counts().reset_index()\n",
        "category_order_count.columns = ['Category', 'Order_Count']\n",
        "print(category_order_count)"
      ],
      "metadata": {
        "id": "H1pV3payqaJF"
      },
      "execution_count": null,
      "outputs": []
    },
    {
      "cell_type": "code",
      "source": [
        "#the most ordered product sub categories\n",
        "category_order_count = df['Sub_Category'].value_counts().reset_index()\n",
        "category_order_count.columns = ['Sub_Category', 'Order_Count']\n",
        "print(category_order_count)"
      ],
      "metadata": {
        "id": "ZJTdqP9sAG8q"
      },
      "execution_count": null,
      "outputs": []
    },
    {
      "cell_type": "markdown",
      "source": [
        "#### Categories Based on Sales"
      ],
      "metadata": {
        "id": "yjyvke1R_xZA"
      }
    },
    {
      "cell_type": "code",
      "source": [
        "#product category with the highest sales\n",
        "category_sales = df.groupby('Category')['Sales'].sum().sort_values(ascending=False).reset_index()\n",
        "print(category_sales)"
      ],
      "metadata": {
        "id": "Q3K7AB8s_5Gz"
      },
      "execution_count": null,
      "outputs": []
    },
    {
      "cell_type": "code",
      "source": [
        "#product sub category with the highest sales\n",
        "category_sales = df.groupby('Sub_Category')['Sales'].sum().sort_values(ascending=False).reset_index()\n",
        "print(category_sales)"
      ],
      "metadata": {
        "id": "5RU-I4ZMANMH"
      },
      "execution_count": null,
      "outputs": []
    },
    {
      "cell_type": "markdown",
      "source": [
        "#### Categories Based on Profit"
      ],
      "metadata": {
        "id": "cErLTksg_5bb"
      }
    },
    {
      "cell_type": "code",
      "source": [
        "#product category with the highest profit\n",
        "category_sales = df.groupby('Category')['Profit'].sum().sort_values(ascending=False).reset_index()\n",
        "print(category_sales)"
      ],
      "metadata": {
        "id": "9WM83eSb_iqC"
      },
      "execution_count": null,
      "outputs": []
    },
    {
      "cell_type": "code",
      "source": [
        "#product sub category with the highest profit\n",
        "category_sales = df.groupby('Sub_Category')['Profit'].sum().sort_values(ascending=False).reset_index()\n",
        "print(category_sales)"
      ],
      "metadata": {
        "id": "kFvNbjThAR6v"
      },
      "execution_count": null,
      "outputs": []
    },
    {
      "cell_type": "code",
      "source": [
        "# Hitung sales dan profit per kategori, lalu urutkan berdasarkan Sales\n",
        "category_summary = df.groupby('Category')[['Sales','Profit']].sum().reset_index()\n",
        "category_summary = category_summary.sort_values('Sales', ascending=False)\n",
        "\n",
        "# Buat posisi batang\n",
        "x = np.arange(len(category_summary['Category']))\n",
        "width = 0.35  # lebar batang\n",
        "\n",
        "fig, ax = plt.subplots(figsize=(8,5))\n",
        "\n",
        "# Plot Sales\n",
        "bars1 = ax.bar(x - width/2, category_summary['Sales'], width, label='Sales', color='skyblue')\n",
        "\n",
        "# Plot Profit\n",
        "bars2 = ax.bar(x + width/2, category_summary['Profit'], width, label='Profit', color='salmon')\n",
        "\n",
        "# Tambahkan label & judul\n",
        "ax.set_xlabel('Kategori Produk')\n",
        "ax.set_ylabel('Total (USD)')\n",
        "ax.set_title('Perbandingan Sales vs Profit per Kategori Produk (Urut Sales Terbesar)')\n",
        "ax.set_xticks(x)\n",
        "ax.set_xticklabels(category_summary['Category'])\n",
        "ax.legend()\n",
        "\n",
        "# Tambahkan angka di atas batang\n",
        "for bar in bars1 + bars2:\n",
        "    height = bar.get_height()\n",
        "    ax.annotate(f'{height:,.0f}',\n",
        "                xy=(bar.get_x() + bar.get_width()/2, height),\n",
        "                xytext=(0,3),  # jarak\n",
        "                textcoords=\"offset points\",\n",
        "                ha='center', va='bottom', fontsize=9)\n",
        "\n",
        "plt.tight_layout()\n",
        "plt.show()"
      ],
      "metadata": {
        "id": "Zb7Cosi13hgm"
      },
      "execution_count": null,
      "outputs": []
    },
    {
      "cell_type": "code",
      "source": [
        "# Hitung sales dan profit per sub-category\n",
        "subcategory_summary = df.groupby('Sub_Category')[['Sales','Profit']].sum().reset_index()\n",
        "\n",
        "# Urutkan berdasarkan Sales terbesar\n",
        "subcategory_summary = subcategory_summary.sort_values(by='Sales', ascending=False).reset_index(drop=True)\n",
        "\n",
        "# Buat posisi batang\n",
        "x = np.arange(len(subcategory_summary['Sub_Category']))\n",
        "width = 0.35  # lebar batang\n",
        "\n",
        "fig, ax = plt.subplots(figsize=(14,7))\n",
        "\n",
        "# Plot Sales\n",
        "bars1 = ax.bar(x - width/2, subcategory_summary['Sales'], width, label='Sales', color='skyblue')\n",
        "\n",
        "# Plot Profit\n",
        "bars2 = ax.bar(x + width/2, subcategory_summary['Profit'], width, label='Profit', color='salmon')\n",
        "\n",
        "# Tambahkan label & judul\n",
        "ax.set_xlabel('Sub-Kategori Produk')\n",
        "ax.set_ylabel('Total (USD)')\n",
        "ax.set_title('Perbandingan Sales vs Profit per Sub-Kategori Produk')\n",
        "ax.set_xticks(x)\n",
        "ax.set_xticklabels(subcategory_summary['Sub_Category'], rotation=45, ha='right')\n",
        "ax.legend()\n",
        "\n",
        "# Tambahkan angka di atas batang\n",
        "for bar in bars1 + bars2:\n",
        "    height = bar.get_height()\n",
        "    ax.annotate(f'{height:,.0f}',\n",
        "                xy=(bar.get_x() + bar.get_width()/2, height),\n",
        "                xytext=(0,3),  # jarak sedikit di atas batang\n",
        "                textcoords=\"offset points\",\n",
        "                ha='center', va='bottom', fontsize=8)\n",
        "\n",
        "plt.tight_layout()\n",
        "plt.show()"
      ],
      "metadata": {
        "id": "yob_wFW-5HB-"
      },
      "execution_count": null,
      "outputs": []
    },
    {
      "cell_type": "code",
      "source": [
        "import matplotlib.pyplot as plt\n",
        "import numpy as np\n",
        "\n",
        "# Hitung sales dan profit per sub-category\n",
        "subcategory_summary = df.groupby('Sub_Category')[['Sales','Profit']].sum().reset_index()\n",
        "\n",
        "# Urutkan berdasarkan Profit terbesar\n",
        "subcategory_summary = subcategory_summary.sort_values(by='Profit', ascending=False).reset_index(drop=True)\n",
        "\n",
        "# Buat posisi batang\n",
        "x = np.arange(len(subcategory_summary['Sub_Category']))\n",
        "width = 0.35  # lebar batang\n",
        "\n",
        "fig, ax = plt.subplots(figsize=(14,7))\n",
        "\n",
        "# Plot Sales\n",
        "bars1 = ax.bar(x - width/2, subcategory_summary['Sales'], width, label='Sales', color='skyblue')\n",
        "\n",
        "# Plot Profit\n",
        "bars2 = ax.bar(x + width/2, subcategory_summary['Profit'], width, label='Profit', color='salmon')\n",
        "\n",
        "# Tambahkan label & judul\n",
        "ax.set_xlabel('Sub-Kategori Produk')\n",
        "ax.set_ylabel('Total (USD)')\n",
        "ax.set_title('Perbandingan Sales vs Profit per Sub-Kategori Produk (Urut Profit)')\n",
        "ax.set_xticks(x)\n",
        "ax.set_xticklabels(subcategory_summary['Sub_Category'], rotation=45, ha='right')\n",
        "ax.legend()\n",
        "\n",
        "# Tambahkan angka di atas batang\n",
        "for bar in bars1 + bars2:\n",
        "    height = bar.get_height()\n",
        "    ax.annotate(f'{height:,.0f}',\n",
        "                xy=(bar.get_x() + bar.get_width()/2, height),\n",
        "                xytext=(0,3),  # jarak sedikit di atas batang\n",
        "                textcoords=\"offset points\",\n",
        "                ha='center', va='bottom', fontsize=8)\n",
        "\n",
        "plt.tight_layout()\n",
        "plt.show()"
      ],
      "metadata": {
        "id": "vrQwG5XaBUjZ"
      },
      "execution_count": null,
      "outputs": []
    },
    {
      "cell_type": "markdown",
      "source": [
        "#### Sales analysis by product and recommendations\n",
        "\n",
        "**Product by Category**\n",
        "\n",
        "1. Technology\n",
        "\n",
        "- The product with the highest sales and profit is the technology category, with total sales of `$836,154` and profit of `$145,455`.\n",
        "- The technology product category is the largest contributor to profit, despite requiring significant capital.\n",
        "- It is highly recommended to maximize marketing strategies and innovation.\n",
        "\n",
        "2. Office Supplies\n",
        "\n",
        "- The office supplies category has the lowest sales but decent profit, with sales of `$719,047` and profit of `$122,490`.\n",
        "- This category has a good balance between sales and profit because most needs are routine, so repeat orders will be high.\n",
        "\n",
        "3. Furniture\n",
        "\n",
        "- With relatively high sales of `$741,999` but low profit of `$18,451`, it lags significantly behind other categories.\n",
        "- This category **requires evaluation of thin margins, large discounts, or high costs due to high sales but low profitability**."
      ],
      "metadata": {
        "id": "-KP_B-je6T67"
      }
    },
    {
      "cell_type": "markdown",
      "source": [
        "**Product by Sub Category**\n",
        "\n",
        "1. Furniture (Tables, Chairs, Bookcases, Furnishings)\n",
        "\n",
        "- The **Chairs** subcategory has the highest sales and fairly good profits. It can be categorized as quite promising.\n",
        "- **Tables** is a subcategory with high sales but significant losses (negative profits). Further review of this product subcategory is needed.\n",
        "- **Bookcases** have relatively high sales but incur losses (negative profit). Further review is needed for this subcategory.  \n",
        "- **Furnishings** have decent sales and small but positive profits.  \n",
        "- **The furniture product category as a whole faces risks with many subcategories having low or even negative profits. Only Chairs consistently generate profits.**\n",
        "\n",
        "2. Office Supplies (Binders, Paper, Art, Labels, Supplies, Storage, Appliances, Envelopes, Fasteners)\n",
        "\n",
        "- Binders and Papers have relatively high sales and are categorized as high profit compared to other subcategories.\n",
        "- Storage and Appliances are subcategories with relatively good sales and positive profits, albeit slim.\n",
        "- Supplies and Fasteners have negative profits despite sales. Problematic products require further review in this category.\n",
        "- The Art, Envelopes, and Labels subcategories have low sales and profits, contributing minimally.\n",
        "- The Office Supplies category has a mixed profile. Binders and Paper are key profit contributors, while Supplies and Labels require reevaluation.\n",
        "\n",
        "3. Technology Category (Phones, Machines, Accessories, Copiers)\n",
        "\n",
        "- Phones are the products with the highest sales and the top 2 products with the highest profits.\n",
        "- Copiers, despite not having very high sales, generate the highest profits.\n",
        "- Accessories also have fairly good sales and are among the top 3 highest profits.\n",
        "- However, the machine subcategory, despite having fairly high sales, generates very low profits.\n",
        "- The technology category is the category with the best sales and profits. This category drives overall revenue and profit. However, Machines are risky and require new pricing/distribution strategies.\n",
        "\n"
      ],
      "metadata": {
        "id": "lGHHbuXT_Or2"
      }
    },
    {
      "cell_type": "markdown",
      "source": [
        "#### Conclusion\n",
        "\n",
        "From the analysis by category and subcategory, it is evident that Technology is the main driver of profit and needs to be maximized, especially for Phones, Copiers, and Accessories. Office Supplies tend to be stable with potential repeat orders, although some subcategories (Supplies, Fasteners) need to be evaluated. Meanwhile, Furniture presents significant risks with some sub-categories incurring losses (Tables, Bookcases), so pricing strategies and cost efficiency must be reviewed immediately."
      ],
      "metadata": {
        "id": "PZptwpM9Zs7T"
      }
    },
    {
      "cell_type": "markdown",
      "source": [
        "## Demografris Analysis"
      ],
      "metadata": {
        "id": "-eEFQ_z0AkOf"
      }
    },
    {
      "cell_type": "code",
      "source": [
        "#semua data berasal dari negara United States'\n",
        "df.Country.unique()"
      ],
      "metadata": {
        "colab": {
          "base_uri": "https://localhost:8080/"
        },
        "id": "pjmIKxRDLM1U",
        "outputId": "33cc8fcf-7875-4dd1-c65a-a9fdd2319f47"
      },
      "execution_count": null,
      "outputs": [
        {
          "output_type": "execute_result",
          "data": {
            "text/plain": [
              "array(['United States'], dtype=object)"
            ]
          },
          "metadata": {},
          "execution_count": 31
        }
      ]
    },
    {
      "cell_type": "code",
      "source": [
        "#region with the highest sales\n",
        "category_sales = df.groupby('Region')['Sales'].sum().sort_values(ascending=False).reset_index()\n",
        "print(category_sales)"
      ],
      "metadata": {
        "colab": {
          "base_uri": "https://localhost:8080/"
        },
        "id": "NTJ86ic9AsaE",
        "outputId": "63006e24-6d4f-40e2-cb0b-29bc5333b9e0"
      },
      "execution_count": null,
      "outputs": [
        {
          "output_type": "stream",
          "name": "stdout",
          "text": [
            "    Region        Sales\n",
            "0     West  725457.8245\n",
            "1     East  678781.2400\n",
            "2  Central  501239.8908\n",
            "3    South  391721.9050\n"
          ]
        }
      ]
    },
    {
      "cell_type": "code",
      "source": [
        "#region with the highest Profit\n",
        "category_sales = df.groupby('Region')['Profit'].sum().sort_values(ascending=False).reset_index()\n",
        "print(category_sales)"
      ],
      "metadata": {
        "colab": {
          "base_uri": "https://localhost:8080/"
        },
        "id": "zgw0Cra3WW-i",
        "outputId": "acdb3f5f-4f30-4970-ff5c-1d59ee6d0a9f"
      },
      "execution_count": null,
      "outputs": [
        {
          "output_type": "stream",
          "name": "stdout",
          "text": [
            "    Region       Profit\n",
            "0     West  108418.4489\n",
            "1     East   91522.7800\n",
            "2    South   46749.4303\n",
            "3  Central   39706.3625\n"
          ]
        }
      ]
    },
    {
      "cell_type": "code",
      "source": [
        "# Hitung total sales & profit per region\n",
        "region_summary = df.groupby(\"Region\")[[\"Sales\", \"Profit\"]].sum().sort_values(\"Sales\", ascending=False)\n",
        "\n",
        "# Plot\n",
        "plt.figure(figsize=(10,6))\n",
        "bar = region_summary[[\"Sales\", \"Profit\"]].plot(kind=\"bar\", figsize=(10,6))\n",
        "\n",
        "# Tambahkan label angka di atas bar\n",
        "for p in bar.patches:\n",
        "    bar.annotate(format(p.get_height(), ',.0f'),  # format angka ribuan\n",
        "                 (p.get_x() + p.get_width() / 2., p.get_height()),\n",
        "                 ha='center', va='bottom', fontsize=9, color='black', rotation=0)\n",
        "\n",
        "plt.title(\"Total Sales and Profit by Region\", fontsize=14, fontweight='bold')\n",
        "plt.ylabel(\"Amount\")\n",
        "plt.xlabel(\"Region\")\n",
        "plt.xticks(rotation=0)\n",
        "plt.legend(title=\"Metric\")\n",
        "plt.tight_layout()\n",
        "plt.show()"
      ],
      "metadata": {
        "colab": {
          "base_uri": "https://localhost:8080/",
          "height": 625
        },
        "id": "C60abU0mXYcL",
        "outputId": "d7113f39-f923-40f5-ce39-ebd9a4ba66f7"
      },
      "execution_count": null,
      "outputs": [
        {
          "output_type": "display_data",
          "data": {
            "text/plain": [
              "<Figure size 1000x600 with 0 Axes>"
            ]
          },
          "metadata": {}
        },
        {
          "output_type": "display_data",
          "data": {
            "text/plain": [
              "<Figure size 1000x600 with 1 Axes>"
            ],
            "image/png": "[encoded data removed]"
          },
          "metadata": {}
        }
      ]
    },
    {
      "cell_type": "code",
      "source": [
        "# Calculate total sales and profits per region and category\n",
        "region_category_summary = df.groupby([\"Region\", \"Category\"])[[\"Sales\", \"Profit\"]].sum().reset_index()\n",
        "\n",
        "# Sort by highest sales and profit\n",
        "region_category_summary_sales = region_category_summary.sort_values(\"Sales\", ascending=False)\n",
        "region_category_summary_profit = region_category_summary.sort_values(\"Profit\", ascending=False)\n",
        "\n",
        "# Determine consistent colors for each category\n",
        "palette = {\n",
        "    \"Furniture\": \"#1f77b4\",\n",
        "    \"Office Supplies\": \"#ff7f0e\",\n",
        "    \"Technology\": \"#2ca02c\"\n",
        "}\n",
        "\n",
        "#--Sales--\n",
        "fig, axes = plt.subplots(1, 2, figsize=(14,5), sharex=False)\n",
        "\n",
        "#sales plot\n",
        "sns.barplot(\n",
        "    data=region_category_summary_sales,\n",
        "    x=\"Region\", y=\"Sales\", hue=\"Category\", ax=axes[0],\n",
        "    order=region_category_summary_sales[\"Region\"].unique(),\n",
        "    palette=palette\n",
        ")\n",
        "axes[0].set_title(\"Sales by Category per Region\", fontsize=12, fontweight='bold')\n",
        "axes[0].set_ylabel(\"Total Sales\")\n",
        "axes[0].set_xlabel(\"Region\")\n",
        "\n",
        "# bar number\n",
        "for p in axes[0].patches:\n",
        "    axes[0].annotate(\n",
        "        format(p.get_height(), \".0f\"),\n",
        "        (p.get_x() + p.get_width() / 2., p.get_height()),\n",
        "        ha = 'center', va = 'center',\n",
        "        xytext = (0, 5), textcoords = 'offset points',\n",
        "        fontsize=8, color=\"black\"\n",
        "    )\n",
        "\n",
        "# --- Profit ---\n",
        "sns.barplot(\n",
        "    data=region_category_summary_profit,\n",
        "    x=\"Region\", y=\"Profit\", hue=\"Category\", ax=axes[1],\n",
        "    order=region_category_summary_profit[\"Region\"].unique(),\n",
        "    palette=palette\n",
        ")\n",
        "axes[1].set_title(\"Profit by Category per Region\", fontsize=12, fontweight='bold')\n",
        "axes[1].set_ylabel(\"Total Profit\")\n",
        "axes[1].set_xlabel(\"Region\")\n",
        "\n",
        "# bar number\n",
        "for p in axes[1].patches:\n",
        "    axes[1].annotate(\n",
        "        format(p.get_height(), \".0f\"),\n",
        "        (p.get_x() + p.get_width() / 2., p.get_height()),\n",
        "        ha = 'center', va = 'center',\n",
        "        xytext = (0, 5), textcoords = 'offset points',\n",
        "        fontsize=8, color=\"black\"\n",
        "    )\n",
        "\n",
        "# legend\n",
        "handles, labels = axes[0].get_legend_handles_labels()\n",
        "fig.legend(handles, labels, title=\"Category\", loc=\"lower center\", ncol=3, bbox_to_anchor=(0.5, -0.05))\n",
        "\n",
        "plt.tight_layout()\n",
        "plt.show()"
      ],
      "metadata": {
        "colab": {
          "base_uri": "https://localhost:8080/",
          "height": 506
        },
        "id": "zW0_4BN2THXH",
        "outputId": "e715ef0d-0d54-4e6a-f8ab-7b6d624fcea8"
      },
      "execution_count": null,
      "outputs": [
        {
          "output_type": "display_data",
          "data": {
            "text/plain": [
              "<Figure size 1400x500 with 2 Axes>"
            ],
            "image/png": "[encoded data removed]"
          },
          "metadata": {}
        }
      ]
    },
    {
      "cell_type": "code",
      "source": [
        "# Calculate total Sales & Profit per City\n",
        "city_summary = df.groupby('City')[['Sales','Profit']].sum().reset_index()\n",
        "\n",
        "#Top 10 based on Sales & Profit\n",
        "top10_sales = city_summary.sort_values('Sales', ascending=False).head(10)\n",
        "top10_profit = city_summary.sort_values('Profit', ascending=False).head(10)\n",
        "\n",
        "# plot 2 column\n",
        "fig, axes = plt.subplots(1, 2, figsize=(18, 8))\n",
        "\n",
        "# -- SALES --\n",
        "colors_sales = ['red' if i < 3 else 'blue' for i in range(len(top10_sales))]\n",
        "bars_sales = axes[0].barh(top10_sales['City'], top10_sales['Sales'], color=colors_sales)\n",
        "axes[0].invert_yaxis()\n",
        "axes[0].set_title(\"Top 10 Cities by Sales\", fontsize=14)\n",
        "axes[0].set_xlabel(\"Total Sales\")\n",
        "\n",
        "# bar number\n",
        "for bar in bars_sales:\n",
        "    width = bar.get_width()\n",
        "    axes[0].text(width - (0.05 * top10_sales['Sales'].max()),  # posisi agak ke kiri ujung bar\n",
        "                 bar.get_y() + bar.get_height()/2,\n",
        "                 f\"{int(width):,}\", va='center', ha='right', fontsize=10, color='white')\n",
        "\n",
        "# -- PROFIT --\n",
        "colors_profit = ['red' if i < 3 else 'blue' for i in range(len(top10_profit))]\n",
        "bars_profit = axes[1].barh(top10_profit['City'], top10_profit['Profit'], color=colors_profit)\n",
        "axes[1].invert_yaxis()\n",
        "axes[1].set_title(\"Top 10 Cities by Profit\", fontsize=14)\n",
        "axes[1].set_xlabel(\"Total Profit\")\n",
        "\n",
        "# bar number\n",
        "for bar in bars_profit:\n",
        "    width = bar.get_width()\n",
        "    axes[1].text(width - (0.05 * top10_profit['Profit'].max()),\n",
        "                 bar.get_y() + bar.get_height()/2,\n",
        "                 f\"{int(width):,}\", va='center', ha='right', fontsize=10, color='white')\n",
        "\n",
        "plt.tight_layout()\n",
        "plt.show()"
      ],
      "metadata": {
        "colab": {
          "base_uri": "https://localhost:8080/",
          "height": 590
        },
        "id": "u73nAOiwLZ3r",
        "outputId": "98aff98f-7a60-4288-f564-6cfda5c1506c"
      },
      "execution_count": null,
      "outputs": [
        {
          "output_type": "display_data",
          "data": {
            "text/plain": [
              "<Figure size 1800x800 with 2 Axes>"
            ],
            "image/png": "[encoded data removed]"
          },
          "metadata": {}
        }
      ]
    },
    {
      "cell_type": "code",
      "source": [
        "# Calculate Sales & Profit per City\n",
        "city_summary = df.groupby(\"City\")[[\"Sales\", \"Profit\"]].sum().reset_index()\n",
        "\n",
        "# Top 10 Sales\n",
        "top10_sales = city_summary.sort_values(\"Sales\", ascending=False).head(10)\n",
        "\n",
        "# Sales vs Profit\n",
        "plt.figure(figsize=(12,6))\n",
        "sns.barplot(data=top10_sales, x=\"City\", y=\"Sales\", color=\"skyblue\", label=\"Sales\")\n",
        "sns.barplot(data=top10_sales, x=\"City\", y=\"Profit\", color=\"orange\", label=\"Profit\")\n",
        "\n",
        "plt.xticks(rotation=45)\n",
        "plt.title(\"Top 10 Cities by Sales (Sales vs Profit)\")\n",
        "plt.legend()\n",
        "plt.show()"
      ],
      "metadata": {
        "id": "z59AxxmZYcS7"
      },
      "execution_count": null,
      "outputs": []
    },
    {
      "cell_type": "code",
      "source": [
        "# Summary of Sales & Profit per City\n",
        "city_summary = df.groupby(\"City\")[[\"Sales\", \"Profit\"]].sum().reset_index()\n",
        "\n",
        "# Sort by Top 10 largest sales\n",
        "top10_sales = city_summary.sort_values(\"Sales\", ascending=False).head(10)\n",
        "\n",
        "# Add category\n",
        "city_cat_summary = df.groupby([\"City\", \"Category\"])[[\"Sales\", \"Profit\"]].sum().reset_index()\n",
        "\n",
        "# Filter only Top 10 Sales Cities\n",
        "city_cat_top10 = city_cat_summary[city_cat_summary[\"City\"].isin(top10_sales[\"City\"])]\n",
        "\n",
        "# Arrange cities in order according to Sales ranking\n",
        "city_order = top10_sales[\"City\"].tolist()\n",
        "city_cat_top10[\"City\"] = pd.Categorical(city_cat_top10[\"City\"], categories=city_order, ordered=True)\n",
        "\n",
        "# Profit per Category pada Top 10 Sales Cities\n",
        "plt.figure(figsize=(12,5))\n",
        "sns.barplot(\n",
        "    data=city_cat_top10,\n",
        "    x=\"City\",\n",
        "    y=\"Profit\",\n",
        "    hue=\"Category\",\n",
        "    order=city_order\n",
        ")\n",
        "\n",
        "plt.xticks(rotation=45)\n",
        "plt.title(\"Profit Distribution by Category (Top 10 Sales Cities)\", fontsize=13, weight=\"bold\")\n",
        "plt.ylabel(\"Total Profit\")\n",
        "plt.xlabel(\"City (Top 10 by Sales)\")\n",
        "plt.legend(title=\"Category\", bbox_to_anchor=(1.05, 1), loc='upper left')\n",
        "plt.tight_layout()\n",
        "plt.show()"
      ],
      "metadata": {
        "id": "tGvk2LaiVAkU"
      },
      "execution_count": null,
      "outputs": []
    },
    {
      "cell_type": "code",
      "source": [
        "# Sort by Top 10 Highest Profits\n",
        "top10_profit = city_summary.sort_values(\"Profit\", ascending=False).head(10)\n",
        "\n",
        "# Add category\n",
        "city_cat_summary = df.groupby([\"City\", \"Category\"])[\"Profit\"].sum().reset_index()\n",
        "\n",
        "# Filter only the top 10 Profit Cities\n",
        "city_cat_top10 = city_cat_summary[city_cat_summary[\"City\"].isin(top10_profit[\"City\"])]\n",
        "\n",
        "# Arrange cities in order of profit ranking\n",
        "city_order = top10_profit[\"City\"].tolist()\n",
        "city_cat_top10[\"City\"] = pd.Categorical(city_cat_top10[\"City\"], categories=city_order, ordered=True)\n",
        "\n",
        "# Profit Visualization per Category\n",
        "plt.figure(figsize=(12,6))\n",
        "sns.barplot(\n",
        "    data=city_cat_top10,\n",
        "    x=\"City\",\n",
        "    y=\"Profit\",\n",
        "    hue=\"Category\",\n",
        "    order=city_order\n",
        ")\n",
        "\n",
        "plt.xticks(rotation=45)\n",
        "plt.title(\"Profit Distribution by Category (Top 10 Profit Cities)\", fontsize=14, weight=\"bold\")\n",
        "plt.ylabel(\"Total Profit\")\n",
        "plt.xlabel(\"City (Top 10 by Profit)\")\n",
        "plt.legend(title=\"Category\")\n",
        "plt.show()"
      ],
      "metadata": {
        "id": "x5KmqM7AYjM-"
      },
      "execution_count": null,
      "outputs": []
    },
    {
      "cell_type": "code",
      "source": [
        "df.City.count()"
      ],
      "metadata": {
        "id": "QXkLiTMPV0rQ"
      },
      "execution_count": null,
      "outputs": []
    },
    {
      "cell_type": "code",
      "source": [
        "# Summary of Sales & Profit per City\n",
        "city_summary = df.groupby(\"City\")[[\"Sales\", \"Profit\"]].sum().reset_index()\n",
        "\n",
        "# Filter cities with Sales > 0 but Profit < 0\n",
        "loss_cities = city_summary[(city_summary[\"Sales\"] > 0) & (city_summary[\"Profit\"] < 0)]\n",
        "\n",
        "# Sort for clarity: based on highest sales\n",
        "loss_cities = loss_cities.sort_values(\"Sales\", ascending=False).reset_index(drop=True)\n",
        "\n",
        "loss_cities"
      ],
      "metadata": {
        "id": "g7TnLsg7VZ5c"
      },
      "execution_count": null,
      "outputs": []
    },
    {
      "cell_type": "code",
      "source": [
        "# Summary of Sales & Profit per City\n",
        "city_summary = df.groupby(\"City\")[[\"Sales\", \"Profit\"]].sum().reset_index()\n",
        "\n",
        "# Filter cities with negative profit\n",
        "loss_cities = city_summary[city_summary[\"Profit\"] < 0]\n",
        "\n",
        "# Take the Top 10 based on the highest sales (even if the profit is negative)\n",
        "top10_loss_cities = loss_cities.sort_values(\"Sales\", ascending=False).head(10).reset_index(drop=True)\n",
        "\n",
        "# Add Profit Margin\n",
        "top10_loss_cities[\"Profit Margin (%)\"] = (top10_loss_cities[\"Profit\"] / top10_loss_cities[\"Sales\"]) * 100\n",
        "\n",
        "top10_loss_cities"
      ],
      "metadata": {
        "id": "6vXVhhauWS7w"
      },
      "execution_count": null,
      "outputs": []
    },
    {
      "cell_type": "code",
      "source": [
        "# Visualization of Sales vs Profit in the Top 10 Loss Cities\n",
        "plt.figure(figsize=(12,5))\n",
        "top10_loss_melt = top10_loss_cities.melt(id_vars=\"City\", value_vars=[\"Sales\", \"Profit\"],\n",
        "                                         var_name=\"Metric\", value_name=\"Amount\")\n",
        "\n",
        "sns.barplot(data=top10_loss_melt, x=\"City\", y=\"Amount\", hue=\"Metric\")\n",
        "plt.xticks(rotation=45)\n",
        "plt.title(\"Top 10 Cities with Highest Sales but Negative Profit\", fontsize=13, weight=\"bold\")\n",
        "plt.ylabel(\"Amount\")\n",
        "plt.xlabel(\"City\")\n",
        "plt.legend(title=\"Metric\")\n",
        "plt.tight_layout()\n",
        "plt.show()"
      ],
      "metadata": {
        "id": "a-KSVLOCWS3o"
      },
      "execution_count": null,
      "outputs": []
    },
    {
      "cell_type": "code",
      "source": [
        "# Get the list of the top 10 cities with the highest losses\n",
        "loss_city_list = top10_loss_cities[\"City\"].tolist()\n",
        "\n",
        "# the loss city Profit per Category\n",
        "loss_city_cat = df[df[\"City\"].isin(loss_city_list)] \\\n",
        "    .groupby([\"City\", \"Category\"])[[\"Sales\", \"Profit\"]].sum().reset_index()\n",
        "\n",
        "# Add Profit Margin\n",
        "loss_city_cat[\"Profit Margin (%)\"] = (loss_city_cat[\"Profit\"] / loss_city_cat[\"Sales\"]) * 100\n",
        "\n",
        "# Sort cities by highest sales ranking\n",
        "loss_city_cat[\"City\"] = pd.Categorical(loss_city_cat[\"City\"], categories=loss_city_list, ordered=True)\n",
        "\n",
        "loss_city_cat"
      ],
      "metadata": {
        "id": "BWsRthpnWqf4"
      },
      "execution_count": null,
      "outputs": []
    },
    {
      "cell_type": "code",
      "source": [
        "plt.figure(figsize=(12,6))\n",
        "sns.barplot(\n",
        "    data=loss_city_cat,\n",
        "    x=\"City\",\n",
        "    y=\"Profit\",\n",
        "    hue=\"Category\",\n",
        "    order=loss_city_list\n",
        ")\n",
        "\n",
        "plt.axhline(0, color=\"red\", linestyle=\"--\")\n",
        "plt.xticks(rotation=45)\n",
        "plt.title(\"Profit by Category in Top 10 Cities with High Sales but Negative Profit\", fontsize=13, weight=\"bold\")\n",
        "plt.ylabel(\"Total Profit\")\n",
        "plt.xlabel(\"City\")\n",
        "plt.legend(title=\"Category\")\n",
        "plt.tight_layout()\n",
        "plt.show()"
      ],
      "metadata": {
        "id": "4SeRs3K4WvO_"
      },
      "execution_count": null,
      "outputs": []
    },
    {
      "cell_type": "code",
      "source": [
        "# all cities with negative profits\n",
        "loss_cities = city_summary[city_summary[\"Profit\"] < 0][\"City\"].tolist()\n",
        "\n",
        "# Summarize data by category\n",
        "loss_cat_summary = df[df[\"City\"].isin(loss_cities)] \\\n",
        "    .groupby(\"Category\")[[\"Sales\", \"Profit\"]].sum().reset_index()\n",
        "\n",
        "# Add Profit Margin\n",
        "loss_cat_summary[\"Profit Margin (%)\"] = (loss_cat_summary[\"Profit\"] / loss_cat_summary[\"Sales\"]) * 100\n",
        "\n",
        "print(loss_cat_summary)\n",
        "\n",
        "#\n",
        "plt.figure(figsize=(8,5))\n",
        "sns.barplot(\n",
        "    data=loss_cat_summary,\n",
        "    x=\"Category\",\n",
        "    y=\"Profit\",\n",
        "    palette=\"Set2\"\n",
        ")\n",
        "\n",
        "plt.axhline(0, color=\"red\", linestyle=\"--\")\n",
        "plt.title(\"Total Profit by Category (Across All Loss Cities)\", fontsize=13, weight=\"bold\")\n",
        "plt.ylabel(\"Total Profit\")\n",
        "plt.xlabel(\"Category\")\n",
        "plt.show()"
      ],
      "metadata": {
        "id": "J-HhU6oOXD93"
      },
      "execution_count": null,
      "outputs": []
    },
    {
      "cell_type": "markdown",
      "source": [
        "Based on Region\n",
        "\n",
        "1. **West** is the region with the **highest sales and profits**.\n",
        "   \n",
        "   *Recommendation:* Make this region a **top priority** in your sales strategy. Implement promotions that focus more on high-margin products to maximize profits.\n",
        "\n",
        "2. In the **West** region, the **Furniture** category has the **highest sales but very low profits**.\n",
        "   \n",
        "   *Recommendation:* Conduct a **price & discount evaluation** for the Furniture category. Another alternative is to strengthen upselling of products in the **Technology** and **Office Supplies** categories, which have a relatively stable contribution to profits.\n",
        "\n",
        "3. The **East and South** regions show **fairly good sales**, close to the West, but with the same pattern: **Furniture → high sales, low profit**.\n",
        "   \n",
        "   *Recommendation:* Implement a similar strategy, such as **price optimization, selective discounts, or bundling** for Furniture, so that the gap between sales and profit can be more balanced.\n",
        "\n",
        "4. **Central** has **fairly balanced sales** across categories, but:\n",
        "   * **Furniture → negative profit**\n",
        "   * **Office Supplies → low sales**\n",
        "   * **Technology → stable with positive profit**\n",
        "     \n",
        "      Recommendation: Evaluate discount strategies for **Furniture & Office Supplies**. Strengthen promotions for **Technology** as it has the potential to be the main profit contributor in this region.\n",
        "\n",
        "\n",
        "### **Based on City**\n",
        "\n",
        "5. **Top 3 cities with the highest sales and profits:**\n",
        "\n",
        "   * **New York City, Los Angeles, Seattle**\n",
        "     *Recommendation:* Focus your **Technology** category promotions in these cities because they contribute the most to profits, followed by **Office Supplies** and **Furniture**.\n",
        "\n",
        "6. **New York City** is the city with the largest profit contribution.\n",
        "   \n",
        "   *Recommendation:* Make it the **main marketing hub** for **Technology** products. Increase the penetration of these products with special promotional campaigns.\n",
        "\n",
        "7. There are cities with **high sales but negative profits**, which have the potential to erode profits.\n",
        "\n",
        "   * Examples: **Philadelphia, Houston, Chicago** (among the top 10 in sales, but with negative profits).\n",
        "\n",
        "      Recommendation: Conduct a **discount strategy evaluation** in these cities and identify the categories contributing to losses, especially **Furniture**, to avoid promotions that actually reduce margins.\n",
        "\n",
        "8. **Furniture** is again the category with the **largest negative profit contribution** in cities with sales > 0.\n",
        "   \n",
        "   *Recommendation:* There needs to be a **comprehensive review** of the Furniture category sales strategy in major cities so that it does not continue to be a burden on profits.\n",
        "\n",
        "**Key Conclusions:**\n",
        "\n",
        "* **West Region & New York City** → profit center, should be a strategic priority.\n",
        "* **Furniture** → high sales but low/negative profits → need to improve pricing & promotion strategies.\n",
        "* **Technology** → most consistent profit-generating category → increase promotion & distribution in all regions, especially Central & major cities."
      ],
      "metadata": {
        "id": "NPvMdmxKrbp5"
      }
    },
    {
      "cell_type": "markdown",
      "source": [
        "#Discount"
      ],
      "metadata": {
        "id": "i7qvrMXRtYUJ"
      }
    },
    {
      "cell_type": "markdown",
      "source": [
        "####Analysis\n",
        "\n",
        "After further investigation, even with a 10% discount, profits are still negative. Therefore, further analysis is needed to determine the following possibilities:\n",
        "\n",
        "1. The selling price is too low, so when the discount is applied, there is no profit.\n",
        "2. The discount is applied to products with low margins.\n",
        "3. Shipping costs are high and are not covered by the selling price.\n",
        "4. The promotion is applied to the wrong target market, resulting in no repeat orders."
      ],
      "metadata": {
        "id": "Q44uCCJ5LeD9"
      }
    },
    {
      "cell_type": "code",
      "source": [
        "# Calculate the average discount per category and sort from highest to lowest\n",
        "avg_discount_category = df.groupby(\"Category\")[\"Discount\"].mean().reset_index()\n",
        "avg_discount_category = avg_discount_category.sort_values(by=\"Discount\", ascending=False)\n",
        "print(avg_discount_category)"
      ],
      "metadata": {
        "id": "smx-qmMYuEec"
      },
      "execution_count": null,
      "outputs": []
    },
    {
      "cell_type": "code",
      "source": [
        "# Calculate the average discount per Region and Category and sort\n",
        "discount_summary = df.groupby([\"Region\", \"Category\"])[\"Discount\"].mean().reset_index()\n",
        "discount_summary = discount_summary.sort_values(by=\"Discount\", ascending=False)\n",
        "\n",
        "# Visualize\n",
        "plt.figure(figsize=(10,6))\n",
        "ax = sns.barplot(data=discount_summary, x=\"Region\", y=\"Discount\", hue=\"Category\")\n",
        "\n",
        "plt.title(\"Rata-rata Diskon per Kategori dan Region\", fontsize=12, fontweight='bold')\n",
        "plt.ylabel(\"Rata-rata Diskon (%)\")\n",
        "plt.xlabel(\"Region\")\n",
        "plt.ylim(0, discount_summary[\"Discount\"].max() + 0.05)  # kasih ruang di atas\n",
        "plt.legend(title=\"Category\")\n",
        "\n",
        "# Add label(%)\n",
        "for p in ax.patches:\n",
        "    ax.annotate(f\"{p.get_height()*100:.1f}%\",\n",
        "                (p.get_x() + p.get_width() / 2., p.get_height()),\n",
        "                ha='center', va='bottom',\n",
        "                fontsize=9, color='black', xytext=(0, 3),\n",
        "                textcoords='offset points')\n",
        "\n",
        "plt.show()"
      ],
      "metadata": {
        "id": "4Owysn9Fuwi5"
      },
      "execution_count": null,
      "outputs": []
    },
    {
      "cell_type": "markdown",
      "source": [
        "West\n",
        "1. Region with the highest sales and profits. However, although Furniture contributes significantly to sales, its profits are low. The average discounts for Furniture (13.1%) and Office Supplies (9.3%) are relatively lower than in other regions, meaning that low profits in Furniture are not due to high discounts, but possibly due to high costs or inappropriate pricing strategies.\n",
        "2. Technology contributes steadily to both sales and profits.\n",
        "\n",
        "East\n",
        "1. Technology is the largest contributor to sales and profit. Office Supplies also generates significant profit. Average discounts are moderate (Furniture 15.4%, Office Supplies 14.3%, Technology 14.3%) and fairly balanced. It is important to ensure that discounts do not become too large in order to maintain safe margins.\n",
        "\n",
        "South\n",
        "1. Sales are fairly good, with a relatively balanced distribution across categories.\n",
        "2. Profits from Technology & Office Supplies are stable, but Furniture profits are low. Average discounts are low (Furniture 12.2%, Office Supplies 16.7%, Technology 10.8%) → meaning the profit problem in Furniture is not due to large discounts, but rather pricing/cost.\n",
        "3. There is a significant opportunity in Office Supplies because discounts are fairly high but still generate profit → promotions can be expanded.\n",
        "\n",
        "Central\n",
        "1. Sales are quite large but Furniture is losing money (negative profit). The average discount is the highest (Furniture 29.7%, Office Supplies 25.3%) and is too aggressive, cutting into profits. Discounts on Furniture & Office Supplies need to be evaluated, as they have proven to be ineffective.\n",
        "2. Technology remains the savior of profits despite a 13.3% discount."
      ],
      "metadata": {
        "id": "L8aAqEij2wGj"
      }
    },
    {
      "cell_type": "markdown",
      "source": [
        "Diskon by city Analyze"
      ],
      "metadata": {
        "id": "N1iZS8Xr3Jt0"
      }
    },
    {
      "cell_type": "code",
      "source": [
        "# Find the 3 cities with the highest sales and profits\n",
        "top3_sales_cities = df.groupby('City')['Sales'].sum().nlargest(3).index.tolist()\n",
        "top3_profit_cities = df.groupby('City')['Profit'].sum().nlargest(3).index.tolist()\n",
        "\n",
        "# Merge\n",
        "top_cities = list(set(top3_sales_cities + top3_profit_cities))\n",
        "\n",
        "# Filter data only for those cities\n",
        "df_top = df[df['City'].isin(top_cities)]\n",
        "\n",
        "# Calculate the average discount per category per city\n",
        "city_category_discount = (\n",
        "    df_top.groupby(['City', 'Category'])['Discount']\n",
        "    .mean()\n",
        "    .reset_index()\n",
        ")\n",
        "city_category_discount['Discount (%)'] = city_category_discount['Discount'] * 100\n",
        "\n",
        "# Add profit information for comparison\n",
        "city_category_profit = (\n",
        "    df_top.groupby(['City', 'Category'])['Profit']\n",
        "    .sum()\n",
        "    .reset_index()\n",
        ")\n",
        "\n",
        "# Merge diskon + profit\n",
        "merged = city_category_discount.merge(city_category_profit, on=['City','Category'])\n",
        "\n",
        "print(merged)\n",
        "\n",
        "# 6. Visualize\n",
        "plt.figure(figsize=(12,6))\n",
        "sns.barplot(\n",
        "    data=merged,\n",
        "    x='Category',\n",
        "    y='Discount (%)',\n",
        "    hue='City',\n",
        "    palette='Set2'\n",
        ")\n",
        "\n",
        "# Label\n",
        "for p in plt.gca().patches:\n",
        "    plt.text(p.get_x() + p.get_width()/2,\n",
        "             p.get_height() + 0.5,\n",
        "             f'{p.get_height():.1f}%',\n",
        "             ha='center', va='bottom', fontsize=8)\n",
        "\n",
        "plt.title('Rata-rata Diskon per Kategori\\nTop 3 Kota Sales & Profit Tertinggi')\n",
        "plt.ylabel('Rata-rata Diskon (%)')\n",
        "plt.xlabel('Kategori')\n",
        "plt.legend(title='City')\n",
        "plt.show()"
      ],
      "metadata": {
        "id": "jiECJBz53OXW"
      },
      "execution_count": null,
      "outputs": []
    },
    {
      "cell_type": "markdown",
      "source": [
        "1. Kurangi diskon untuk Furniture (baik di LA maupun NYC), karena sensitif terhadap margin.\n",
        "2. Pertahankan rendahnya diskon untuk Technology di NYC, terbukti profit tetap tinggi tanpa perlu promosi besar.\n",
        "3. Evaluasi diskon Technology di LA & Seattle → cek apakah tanpa diskon besar profit bisa tetap tinggi.\n",
        "4. Office Supplies → sudah optimal, jangan diberi diskon berlebihan."
      ],
      "metadata": {
        "id": "l3zws3It5pft"
      }
    },
    {
      "cell_type": "code",
      "source": [
        "# -- Scatterplot Diskon vs Profit --\n",
        "plt.figure(figsize=(10,6))\n",
        "sns.scatterplot(data=df, x=\"Discount\", y=\"Profit\", alpha=0.6)\n",
        "plt.axhline(0, color='red', linestyle='--')  # garis profit 0\n",
        "plt.title(\"Hubungan Diskon vs Profit\")\n",
        "plt.xlabel(\"Discount\")\n",
        "plt.ylabel(\"Profit\")\n",
        "plt.show()"
      ],
      "metadata": {
        "id": "YTVXiqzf3PHi"
      },
      "execution_count": null,
      "outputs": []
    },
    {
      "cell_type": "code",
      "source": [
        "fig, axes = plt.subplots(2, 2, figsize=(12, 8))\n",
        "\n",
        "categories = [\"Furniture\", \"Office Supplies\", \"Technology\"]\n",
        "\n",
        "for i, cat in enumerate(categories):\n",
        "    ax = axes[i//2, i%2]\n",
        "    sns.boxplot(\n",
        "        data=df[df[\"Category\"]==cat],\n",
        "        x=\"Discount_Segment\",\n",
        "        y=\"Profit\",\n",
        "        ax=ax\n",
        "    )\n",
        "    ax.axhline(0, color=\"red\", linestyle=\"--\")\n",
        "    ax.set_title(f\"Profit vs Discount Segment - {cat}\")\n",
        "    ax.set_xlabel(\"Discount Segment\")\n",
        "    ax.set_ylabel(\"Profit\")\n",
        "\n",
        "\n",
        "fig.delaxes(axes[1,1])\n",
        "plt.tight_layout()\n",
        "plt.show()"
      ],
      "metadata": {
        "id": "JV8Mfb4k6r0l"
      },
      "execution_count": null,
      "outputs": []
    },
    {
      "cell_type": "code",
      "source": [
        "df.to_csv('file_fix.csv')"
      ],
      "metadata": {
        "id": "vAAddsM5gpY9"
      },
      "execution_count": null,
      "outputs": []
    }
  ]
}