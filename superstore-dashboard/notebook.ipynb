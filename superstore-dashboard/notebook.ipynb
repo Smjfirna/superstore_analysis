{
  "nbformat": 4,
  "nbformat_minor": 0,
  "metadata": {
    "colab": {
      "provenance": [],
      "authorship_tag": "ABX9TyPjZXuOzIDNR4hSHiJRAaQj",
      "include_colab_link": true
    },
    "kernelspec": {
      "name": "python3",
      "display_name": "Python 3"
    },
    "language_info": {
      "name": "python"
    }
  },
  "cells": [
    {
      "cell_type": "markdown",
      "metadata": {
        "id": "view-in-github",
        "colab_type": "text"
      },
      "source": [
        "<a href=\"https://colab.research.google.com/github/Smjfirna/da_portofolio/blob/main/superstore-dashboard/notebook.ipynb\" target=\"_parent\"><img src=\"https://colab.research.google.com/assets/colab-badge.svg\" alt=\"Open In Colab\"/></a>"
      ]
    },
    {
      "cell_type": "markdown",
      "source": [
        "#Super Store Sales Analysist\n",
        "\n",
        "[Kaggle Dataset](https://www.kaggle.com/datasets/vivek468/superstore-dataset-final)"
      ],
      "metadata": {
        "id": "xQlEdjHe8aZU"
      }
    },
    {
      "cell_type": "code",
      "execution_count": null,
      "metadata": {
        "id": "xX0MRpIF8O9e"
      },
      "outputs": [],
      "source": []
    }
  ]
}